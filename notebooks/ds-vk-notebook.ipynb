{
 "cells": [
  {
   "cell_type": "markdown",
   "id": "403785d9",
   "metadata": {
    "id": "80c0b522"
   },
   "source": [
    "# setups & imports"
   ]
  },
  {
   "cell_type": "code",
   "execution_count": 68,
   "id": "1a8cb4b5",
   "metadata": {
    "colab": {
     "base_uri": "https://localhost:8080/"
    },
    "execution": {
     "iopub.execute_input": "2024-04-02T13:26:42.539966Z",
     "iopub.status.busy": "2024-04-02T13:26:42.539482Z",
     "iopub.status.idle": "2024-04-02T13:26:57.887007Z",
     "shell.execute_reply": "2024-04-02T13:26:57.885206Z",
     "shell.execute_reply.started": "2024-04-02T13:26:42.539930Z"
    },
    "id": "64BWsGIOrDzF",
    "outputId": "248ac9db-e389-452d-9664-e28bf560fdf3"
   },
   "outputs": [
    {
     "name": "stdout",
     "output_type": "stream",
     "text": [
      "Requirement already satisfied: rs_metrics in /opt/conda/lib/python3.10/site-packages (0.5.0)\n",
      "Requirement already satisfied: lightfm in /opt/conda/lib/python3.10/site-packages (1.17)\n",
      "Requirement already satisfied: catboost in /opt/conda/lib/python3.10/site-packages (1.2.3)\n",
      "Requirement already satisfied: pandas in /opt/conda/lib/python3.10/site-packages (from rs_metrics) (2.2.1)\n",
      "Requirement already satisfied: numpy in /opt/conda/lib/python3.10/site-packages (from rs_metrics) (1.26.4)\n",
      "Requirement already satisfied: scipy>=0.17.0 in /opt/conda/lib/python3.10/site-packages (from lightfm) (1.11.4)\n",
      "Requirement already satisfied: requests in /opt/conda/lib/python3.10/site-packages (from lightfm) (2.31.0)\n",
      "Requirement already satisfied: scikit-learn in /opt/conda/lib/python3.10/site-packages (from lightfm) (1.2.2)\n",
      "Requirement already satisfied: graphviz in /opt/conda/lib/python3.10/site-packages (from catboost) (0.20.2)\n",
      "Requirement already satisfied: matplotlib in /opt/conda/lib/python3.10/site-packages (from catboost) (3.7.5)\n",
      "Requirement already satisfied: plotly in /opt/conda/lib/python3.10/site-packages (from catboost) (5.18.0)\n",
      "Requirement already satisfied: six in /opt/conda/lib/python3.10/site-packages (from catboost) (1.16.0)\n",
      "Requirement already satisfied: python-dateutil>=2.8.2 in /opt/conda/lib/python3.10/site-packages (from pandas->rs_metrics) (2.9.0.post0)\n",
      "Requirement already satisfied: pytz>=2020.1 in /opt/conda/lib/python3.10/site-packages (from pandas->rs_metrics) (2023.3.post1)\n",
      "Requirement already satisfied: tzdata>=2022.7 in /opt/conda/lib/python3.10/site-packages (from pandas->rs_metrics) (2023.4)\n",
      "Requirement already satisfied: contourpy>=1.0.1 in /opt/conda/lib/python3.10/site-packages (from matplotlib->catboost) (1.2.0)\n",
      "Requirement already satisfied: cycler>=0.10 in /opt/conda/lib/python3.10/site-packages (from matplotlib->catboost) (0.12.1)\n",
      "Requirement already satisfied: fonttools>=4.22.0 in /opt/conda/lib/python3.10/site-packages (from matplotlib->catboost) (4.47.0)\n",
      "Requirement already satisfied: kiwisolver>=1.0.1 in /opt/conda/lib/python3.10/site-packages (from matplotlib->catboost) (1.4.5)\n",
      "Requirement already satisfied: packaging>=20.0 in /opt/conda/lib/python3.10/site-packages (from matplotlib->catboost) (21.3)\n",
      "Requirement already satisfied: pillow>=6.2.0 in /opt/conda/lib/python3.10/site-packages (from matplotlib->catboost) (9.5.0)\n",
      "Requirement already satisfied: pyparsing>=2.3.1 in /opt/conda/lib/python3.10/site-packages (from matplotlib->catboost) (3.1.1)\n",
      "Requirement already satisfied: tenacity>=6.2.0 in /opt/conda/lib/python3.10/site-packages (from plotly->catboost) (8.2.3)\n",
      "Requirement already satisfied: charset-normalizer<4,>=2 in /opt/conda/lib/python3.10/site-packages (from requests->lightfm) (3.3.2)\n",
      "Requirement already satisfied: idna<4,>=2.5 in /opt/conda/lib/python3.10/site-packages (from requests->lightfm) (3.6)\n",
      "Requirement already satisfied: urllib3<3,>=1.21.1 in /opt/conda/lib/python3.10/site-packages (from requests->lightfm) (1.26.18)\n",
      "Requirement already satisfied: certifi>=2017.4.17 in /opt/conda/lib/python3.10/site-packages (from requests->lightfm) (2024.2.2)\n",
      "Requirement already satisfied: joblib>=1.1.1 in /opt/conda/lib/python3.10/site-packages (from scikit-learn->lightfm) (1.3.2)\n",
      "Requirement already satisfied: threadpoolctl>=2.0.0 in /opt/conda/lib/python3.10/site-packages (from scikit-learn->lightfm) (3.2.0)\n"
     ]
    }
   ],
   "source": [
    "!pip install rs_metrics lightfm"
   ]
  },
  {
   "cell_type": "code",
   "execution_count": 69,
   "id": "5f5b6856",
   "metadata": {
    "execution": {
     "iopub.execute_input": "2024-04-02T13:26:57.890683Z",
     "iopub.status.busy": "2024-04-02T13:26:57.890258Z",
     "iopub.status.idle": "2024-04-02T13:26:57.906271Z",
     "shell.execute_reply": "2024-04-02T13:26:57.904947Z",
     "shell.execute_reply.started": "2024-04-02T13:26:57.890646Z"
    },
    "id": "5d06e0db"
   },
   "outputs": [],
   "source": [
    "import pandas as pd\n",
    "import numpy as np\n",
    "\n",
    "import matplotlib.pyplot as plt\n",
    "import seaborn as sns\n",
    "import plotly.express as px\n",
    "import plotly.graph_objects as go\n",
    "import plotly.figure_factory as ff\n",
    "from plotly.subplots import make_subplots\n",
    "%matplotlib inline\n",
    "\n",
    "from collections import Counter\n",
    "\n",
    "import scipy.stats as sts\n",
    "\n",
    "from datetime import date\n",
    "from rs_metrics import mapr, ndcg\n",
    "from copy import deepcopy\n",
    "from typing import Optional\n",
    "\n",
    "import abc\n",
    "import math\n",
    "\n",
    "from sklearn.preprocessing import LabelEncoder\n",
    "from sklearn.model_selection import train_test_split\n",
    "\n",
    "from lightfm import LightFM\n",
    "from lightfm.data import Dataset as LFMDataset\n",
    "\n",
    "from scipy.sparse import csr_matrix\n",
    "\n",
    "from tqdm import tqdm\n",
    "\n",
    "import gc"
   ]
  },
  {
   "cell_type": "code",
   "execution_count": 70,
   "id": "58ffd74f",
   "metadata": {
    "execution": {
     "iopub.execute_input": "2024-04-02T13:26:57.908423Z",
     "iopub.status.busy": "2024-04-02T13:26:57.907679Z",
     "iopub.status.idle": "2024-04-02T13:27:35.643543Z",
     "shell.execute_reply": "2024-04-02T13:27:35.642137Z",
     "shell.execute_reply.started": "2024-04-02T13:26:57.908377Z"
    },
    "id": "b9f11f13"
   },
   "outputs": [],
   "source": [
    "songs_df = pd.read_csv('/kaggle/input/ds-2-vk/songs.csv/songs.csv')\n",
    "song_extra_info_df = pd.read_csv('/kaggle/input/ds-2-vk/song_extra_info.csv/song_extra_info.csv')\n",
    "members_df = pd.read_csv('/kaggle/input/ds-2-vk/members.csv/members.csv')\n",
    "train_df = pd.read_csv('/kaggle/input/ds-2-vk/train.csv/train.csv')\n",
    "test_df = pd.read_csv('/kaggle/input/ds-2-vk/test.csv/test.csv')"
   ]
  },
  {
   "cell_type": "markdown",
   "id": "96bd53d7",
   "metadata": {
    "id": "ElI5_Ecjs1G4"
   },
   "source": [
    "# Preprocessing"
   ]
  },
  {
   "cell_type": "code",
   "execution_count": 71,
   "id": "a4b511b3",
   "metadata": {
    "execution": {
     "iopub.execute_input": "2024-04-02T13:27:35.647940Z",
     "iopub.status.busy": "2024-04-02T13:27:35.647392Z",
     "iopub.status.idle": "2024-04-02T13:28:21.178980Z",
     "shell.execute_reply": "2024-04-02T13:28:21.177466Z",
     "shell.execute_reply.started": "2024-04-02T13:27:35.647893Z"
    },
    "id": "HPPFn0w4lTHS"
   },
   "outputs": [],
   "source": [
    "full_songs_df = songs_df.merge(song_extra_info_df, how='outer')\n",
    "full_train_df = train_df.merge(full_songs_df, how='left', on='song_id')\n",
    "full_train_df = full_train_df.merge(members_df, how='left', on='msno')"
   ]
  },
  {
   "cell_type": "code",
   "execution_count": 72,
   "id": "95f6d54b",
   "metadata": {
    "execution": {
     "iopub.execute_input": "2024-04-02T13:28:21.181529Z",
     "iopub.status.busy": "2024-04-02T13:28:21.180842Z",
     "iopub.status.idle": "2024-04-02T13:28:31.322268Z",
     "shell.execute_reply": "2024-04-02T13:28:31.321084Z",
     "shell.execute_reply.started": "2024-04-02T13:28:21.181365Z"
    },
    "id": "p3ySytcilTqU"
   },
   "outputs": [],
   "source": [
    "full_test_df = test_df.merge(full_songs_df, how='left', on='song_id')\n",
    "full_test_df = full_test_df.merge(members_df, how='left', on='msno')\n",
    "full_test_df.rename(columns={\"index\":\"interaction_id\"}, inplace=True)"
   ]
  },
  {
   "cell_type": "code",
   "execution_count": 73,
   "id": "f84a84c9",
   "metadata": {
    "execution": {
     "iopub.execute_input": "2024-04-02T13:28:31.325492Z",
     "iopub.status.busy": "2024-04-02T13:28:31.323567Z",
     "iopub.status.idle": "2024-04-02T13:29:20.951029Z",
     "shell.execute_reply": "2024-04-02T13:29:20.949660Z",
     "shell.execute_reply.started": "2024-04-02T13:28:31.325460Z"
    },
    "id": "9N04thiILQzk"
   },
   "outputs": [],
   "source": [
    "full_train_df = full_train_df.dropna(subset=['msno', 'song_id'])\n",
    "full_test_df = full_test_df.dropna(subset=['msno', 'song_id'])\n",
    "df = pd.concat([full_train_df, full_test_df]).reset_index()\n",
    "\n",
    "encoder = LabelEncoder()\n",
    "\n",
    "df['user_id'] = encoder.fit_transform(df['msno'])\n",
    "df['item_id'] = encoder.fit_transform(df['song_id'])\n",
    "\n",
    "interactions_df = df[train_df.columns.to_list() + ['user_id', 'item_id']]\n",
    "interactions_df.drop(['msno', 'song_id'], axis=1, inplace=True)\n",
    "interactions_df.reset_index(inplace=True)\n",
    "interactions_df.rename(columns={'index': 'interaction_id'}, inplace=True)\n",
    "\n",
    "u_features = df[members_df.columns.to_list() + ['user_id']].drop_duplicates('msno')\n",
    "u_features.drop(['msno'], axis=1, inplace=True)\n",
    "\n",
    "i_features = df[full_songs_df.columns.to_list() + ['item_id']].drop_duplicates('song_id')\n",
    "i_features.drop(['song_id'], axis=1, inplace=True)"
   ]
  },
  {
   "cell_type": "code",
   "execution_count": 74,
   "id": "3edf2ea6",
   "metadata": {
    "colab": {
     "base_uri": "https://localhost:8080/",
     "height": 423
    },
    "execution": {
     "iopub.execute_input": "2024-04-02T13:29:20.953250Z",
     "iopub.status.busy": "2024-04-02T13:29:20.952822Z",
     "iopub.status.idle": "2024-04-02T13:29:35.007000Z",
     "shell.execute_reply": "2024-04-02T13:29:35.005667Z",
     "shell.execute_reply.started": "2024-04-02T13:29:20.953217Z"
    },
    "id": "EZGxvltamnsf",
    "outputId": "18477edc-f1ee-49db-942e-7ba36e742246"
   },
   "outputs": [
    {
     "data": {
      "text/html": [
       "<div>\n",
       "<style scoped>\n",
       "    .dataframe tbody tr th:only-of-type {\n",
       "        vertical-align: middle;\n",
       "    }\n",
       "\n",
       "    .dataframe tbody tr th {\n",
       "        vertical-align: top;\n",
       "    }\n",
       "\n",
       "    .dataframe thead th {\n",
       "        text-align: right;\n",
       "    }\n",
       "</style>\n",
       "<table border=\"1\" class=\"dataframe\">\n",
       "  <thead>\n",
       "    <tr style=\"text-align: right;\">\n",
       "      <th></th>\n",
       "      <th>interaction_id</th>\n",
       "      <th>source_system_tab</th>\n",
       "      <th>source_screen_name</th>\n",
       "      <th>source_type</th>\n",
       "      <th>target</th>\n",
       "      <th>user_id</th>\n",
       "      <th>item_id</th>\n",
       "    </tr>\n",
       "  </thead>\n",
       "  <tbody>\n",
       "    <tr>\n",
       "      <th>0</th>\n",
       "      <td>0</td>\n",
       "      <td>1</td>\n",
       "      <td>7</td>\n",
       "      <td>7</td>\n",
       "      <td>1.0</td>\n",
       "      <td>9176</td>\n",
       "      <td>86884</td>\n",
       "    </tr>\n",
       "    <tr>\n",
       "      <th>1</th>\n",
       "      <td>1</td>\n",
       "      <td>3</td>\n",
       "      <td>8</td>\n",
       "      <td>4</td>\n",
       "      <td>1.0</td>\n",
       "      <td>19273</td>\n",
       "      <td>260594</td>\n",
       "    </tr>\n",
       "    <tr>\n",
       "      <th>2</th>\n",
       "      <td>2</td>\n",
       "      <td>3</td>\n",
       "      <td>8</td>\n",
       "      <td>4</td>\n",
       "      <td>1.0</td>\n",
       "      <td>19273</td>\n",
       "      <td>140755</td>\n",
       "    </tr>\n",
       "    <tr>\n",
       "      <th>3</th>\n",
       "      <td>3</td>\n",
       "      <td>3</td>\n",
       "      <td>8</td>\n",
       "      <td>4</td>\n",
       "      <td>1.0</td>\n",
       "      <td>19273</td>\n",
       "      <td>27577</td>\n",
       "    </tr>\n",
       "    <tr>\n",
       "      <th>4</th>\n",
       "      <td>4</td>\n",
       "      <td>1</td>\n",
       "      <td>7</td>\n",
       "      <td>7</td>\n",
       "      <td>1.0</td>\n",
       "      <td>9176</td>\n",
       "      <td>38706</td>\n",
       "    </tr>\n",
       "    <tr>\n",
       "      <th>...</th>\n",
       "      <td>...</td>\n",
       "      <td>...</td>\n",
       "      <td>...</td>\n",
       "      <td>...</td>\n",
       "      <td>...</td>\n",
       "      <td>...</td>\n",
       "      <td>...</td>\n",
       "    </tr>\n",
       "    <tr>\n",
       "      <th>9934203</th>\n",
       "      <td>9934203</td>\n",
       "      <td>0</td>\n",
       "      <td>11</td>\n",
       "      <td>7</td>\n",
       "      <td>NaN</td>\n",
       "      <td>19206</td>\n",
       "      <td>396079</td>\n",
       "    </tr>\n",
       "    <tr>\n",
       "      <th>9934204</th>\n",
       "      <td>9934204</td>\n",
       "      <td>0</td>\n",
       "      <td>22</td>\n",
       "      <td>7</td>\n",
       "      <td>NaN</td>\n",
       "      <td>25753</td>\n",
       "      <td>146146</td>\n",
       "    </tr>\n",
       "    <tr>\n",
       "      <th>9934205</th>\n",
       "      <td>9934205</td>\n",
       "      <td>0</td>\n",
       "      <td>22</td>\n",
       "      <td>7</td>\n",
       "      <td>NaN</td>\n",
       "      <td>25753</td>\n",
       "      <td>409892</td>\n",
       "    </tr>\n",
       "    <tr>\n",
       "      <th>9934206</th>\n",
       "      <td>9934206</td>\n",
       "      <td>0</td>\n",
       "      <td>22</td>\n",
       "      <td>7</td>\n",
       "      <td>NaN</td>\n",
       "      <td>25753</td>\n",
       "      <td>226660</td>\n",
       "    </tr>\n",
       "    <tr>\n",
       "      <th>9934207</th>\n",
       "      <td>9934207</td>\n",
       "      <td>0</td>\n",
       "      <td>22</td>\n",
       "      <td>7</td>\n",
       "      <td>NaN</td>\n",
       "      <td>25753</td>\n",
       "      <td>288315</td>\n",
       "    </tr>\n",
       "  </tbody>\n",
       "</table>\n",
       "<p>9934208 rows × 7 columns</p>\n",
       "</div>"
      ],
      "text/plain": [
       "         interaction_id  source_system_tab  source_screen_name  source_type  \\\n",
       "0                     0                  1                   7            7   \n",
       "1                     1                  3                   8            4   \n",
       "2                     2                  3                   8            4   \n",
       "3                     3                  3                   8            4   \n",
       "4                     4                  1                   7            7   \n",
       "...                 ...                ...                 ...          ...   \n",
       "9934203         9934203                  0                  11            7   \n",
       "9934204         9934204                  0                  22            7   \n",
       "9934205         9934205                  0                  22            7   \n",
       "9934206         9934206                  0                  22            7   \n",
       "9934207         9934207                  0                  22            7   \n",
       "\n",
       "         target  user_id  item_id  \n",
       "0           1.0     9176    86884  \n",
       "1           1.0    19273   260594  \n",
       "2           1.0    19273   140755  \n",
       "3           1.0    19273    27577  \n",
       "4           1.0     9176    38706  \n",
       "...         ...      ...      ...  \n",
       "9934203     NaN    19206   396079  \n",
       "9934204     NaN    25753   146146  \n",
       "9934205     NaN    25753   409892  \n",
       "9934206     NaN    25753   226660  \n",
       "9934207     NaN    25753   288315  \n",
       "\n",
       "[9934208 rows x 7 columns]"
      ]
     },
     "metadata": {},
     "output_type": "display_data"
    }
   ],
   "source": [
    "encoder = LabelEncoder()\n",
    "\n",
    "categorical_columns = interactions_df.drop(['interaction_id', 'user_id', 'item_id'], axis=1).select_dtypes(include=['object']).columns\n",
    "\n",
    "for col in categorical_columns:\n",
    "    interactions_df[col] = encoder.fit_transform(interactions_df[col].fillna('nan'))\n",
    "\n",
    "display(interactions_df)"
   ]
  },
  {
   "cell_type": "markdown",
   "id": "313365d0",
   "metadata": {},
   "source": [
    "Удалим объекты и пользователей менее чем с 5 взаимодействиями, поскольку качество коллаборативных моделей для пользователей и айтемов с небольшим числом взаимодействий с большой вероятностью будет низким."
   ]
  },
  {
   "cell_type": "code",
   "execution_count": 75,
   "id": "a71ce3f2",
   "metadata": {
    "execution": {
     "iopub.execute_input": "2024-04-02T13:29:35.008921Z",
     "iopub.status.busy": "2024-04-02T13:29:35.008560Z",
     "iopub.status.idle": "2024-04-02T13:29:37.385356Z",
     "shell.execute_reply": "2024-04-02T13:29:37.383977Z",
     "shell.execute_reply.started": "2024-04-02T13:29:35.008893Z"
    },
    "id": "2790c8f3"
   },
   "outputs": [],
   "source": [
    "item_counts = interactions_df[~interactions_df.target.isna()].groupby('item_id')['user_id'].count()\n",
    "pop_items = item_counts[item_counts > 1]\n",
    "filtered_df = interactions_df[~interactions_df.target.isna()][interactions_df[~interactions_df.target.isna()]['item_id'].isin(pop_items.index)]"
   ]
  },
  {
   "cell_type": "code",
   "execution_count": 76,
   "id": "76ebc29d",
   "metadata": {
    "colab": {
     "base_uri": "https://localhost:8080/"
    },
    "execution": {
     "iopub.execute_input": "2024-04-02T13:29:37.387563Z",
     "iopub.status.busy": "2024-04-02T13:29:37.387138Z",
     "iopub.status.idle": "2024-04-02T13:29:39.305440Z",
     "shell.execute_reply": "2024-04-02T13:29:39.304107Z",
     "shell.execute_reply.started": "2024-04-02T13:29:37.387530Z"
    },
    "id": "ytARDecIl7im",
    "outputId": "f353c038-bcbf-4c55-82e0-5dac7c9ed587"
   },
   "outputs": [
    {
     "name": "stderr",
     "output_type": "stream",
     "text": [
      "/tmp/ipykernel_191/551653281.py:3: UserWarning: Boolean Series key will be reindexed to match DataFrame index.\n",
      "  filtered_df = filtered_df[df['user_id'].isin(pop_users.index)].copy()\n"
     ]
    }
   ],
   "source": [
    "user_counts = filtered_df.groupby('user_id')['item_id'].count()\n",
    "pop_users = user_counts[user_counts > 1]\n",
    "filtered_df = filtered_df[df['user_id'].isin(pop_users.index)].copy()"
   ]
  },
  {
   "cell_type": "markdown",
   "id": "88b3ef3d",
   "metadata": {},
   "source": [
    "Разобьем датасет на train и test по времени, взяв 20% наиболее свежих взаимодействий в test."
   ]
  },
  {
   "cell_type": "code",
   "execution_count": 77,
   "id": "21d867d4",
   "metadata": {
    "execution": {
     "iopub.execute_input": "2024-04-02T13:29:39.310524Z",
     "iopub.status.busy": "2024-04-02T13:29:39.310094Z",
     "iopub.status.idle": "2024-04-02T13:29:39.767255Z",
     "shell.execute_reply": "2024-04-02T13:29:39.765886Z",
     "shell.execute_reply.started": "2024-04-02T13:29:39.310487Z"
    },
    "id": "_JN1-kAFnLOX"
   },
   "outputs": [],
   "source": [
    "train_by_date = filtered_df[filtered_df['interaction_id'] <= filtered_df['interaction_id'].quantile(0.8)]\n",
    "test_by_date = filtered_df[filtered_df['interaction_id'] > filtered_df['interaction_id'].quantile(0.8)]"
   ]
  },
  {
   "cell_type": "code",
   "execution_count": 78,
   "id": "dd8900df",
   "metadata": {
    "execution": {
     "iopub.execute_input": "2024-04-02T13:29:39.769213Z",
     "iopub.status.busy": "2024-04-02T13:29:39.768806Z",
     "iopub.status.idle": "2024-04-02T13:29:40.242880Z",
     "shell.execute_reply": "2024-04-02T13:29:40.241294Z",
     "shell.execute_reply.started": "2024-04-02T13:29:39.769155Z"
    },
    "id": "Kjr4Z4LYyqWx"
   },
   "outputs": [],
   "source": [
    "counts_in_test = test_by_date.groupby('user_id')['item_id'].count()\n",
    "test_by_date = test_by_date[test_by_date['user_id'].isin(counts_in_test[counts_in_test > 4].index)].copy()\n",
    "test_by_date['rank'] = test_by_date.groupby('user_id')['interaction_id'].rank(method=\"first\", ascending=True)\n",
    "test_by_date = test_by_date[test_by_date['rank'] <= 5].drop(columns=['rank'])\n",
    "\n",
    "# удалим холодных пользователей\n",
    "test_by_date = test_by_date[test_by_date['user_id'].isin(train_by_date['user_id'].unique())]\n",
    "test_by_date_users = test_by_date['user_id'].drop_duplicates()"
   ]
  },
  {
   "cell_type": "code",
   "execution_count": 79,
   "id": "9fa88a96",
   "metadata": {
    "execution": {
     "iopub.execute_input": "2024-04-02T13:29:40.244649Z",
     "iopub.status.busy": "2024-04-02T13:29:40.244290Z",
     "iopub.status.idle": "2024-04-02T13:29:40.548887Z",
     "shell.execute_reply": "2024-04-02T13:29:40.547532Z",
     "shell.execute_reply.started": "2024-04-02T13:29:40.244621Z"
    },
    "id": "MmStZMdR3NAM"
   },
   "outputs": [],
   "source": [
    "i_features_filtered = i_features[i_features['item_id'].isin(filtered_df['item_id'].unique())].copy()\n",
    "u_features_filtered = u_features[u_features['user_id'].isin(filtered_df['user_id'].unique())].copy()"
   ]
  },
  {
   "cell_type": "code",
   "execution_count": 80,
   "id": "bd7b7974",
   "metadata": {
    "colab": {
     "base_uri": "https://localhost:8080/",
     "height": 423
    },
    "execution": {
     "iopub.execute_input": "2024-04-02T13:29:40.550825Z",
     "iopub.status.busy": "2024-04-02T13:29:40.550478Z",
     "iopub.status.idle": "2024-04-02T13:29:40.568819Z",
     "shell.execute_reply": "2024-04-02T13:29:40.567440Z",
     "shell.execute_reply.started": "2024-04-02T13:29:40.550796Z"
    },
    "id": "Fiw6Z8smc6ve",
    "outputId": "6258e1a0-77a2-4c10-a5e0-e8aaa01c2b2c"
   },
   "outputs": [
    {
     "data": {
      "text/html": [
       "<div>\n",
       "<style scoped>\n",
       "    .dataframe tbody tr th:only-of-type {\n",
       "        vertical-align: middle;\n",
       "    }\n",
       "\n",
       "    .dataframe tbody tr th {\n",
       "        vertical-align: top;\n",
       "    }\n",
       "\n",
       "    .dataframe thead th {\n",
       "        text-align: right;\n",
       "    }\n",
       "</style>\n",
       "<table border=\"1\" class=\"dataframe\">\n",
       "  <thead>\n",
       "    <tr style=\"text-align: right;\">\n",
       "      <th></th>\n",
       "      <th>interaction_id</th>\n",
       "      <th>source_system_tab</th>\n",
       "      <th>source_screen_name</th>\n",
       "      <th>source_type</th>\n",
       "      <th>target</th>\n",
       "      <th>user_id</th>\n",
       "      <th>item_id</th>\n",
       "    </tr>\n",
       "  </thead>\n",
       "  <tbody>\n",
       "    <tr>\n",
       "      <th>5900118</th>\n",
       "      <td>5900118</td>\n",
       "      <td>0</td>\n",
       "      <td>11</td>\n",
       "      <td>7</td>\n",
       "      <td>1.0</td>\n",
       "      <td>6457</td>\n",
       "      <td>136095</td>\n",
       "    </tr>\n",
       "    <tr>\n",
       "      <th>5900119</th>\n",
       "      <td>5900119</td>\n",
       "      <td>0</td>\n",
       "      <td>11</td>\n",
       "      <td>7</td>\n",
       "      <td>1.0</td>\n",
       "      <td>6457</td>\n",
       "      <td>198975</td>\n",
       "    </tr>\n",
       "    <tr>\n",
       "      <th>5900122</th>\n",
       "      <td>5900122</td>\n",
       "      <td>7</td>\n",
       "      <td>0</td>\n",
       "      <td>0</td>\n",
       "      <td>1.0</td>\n",
       "      <td>29661</td>\n",
       "      <td>10149</td>\n",
       "    </tr>\n",
       "    <tr>\n",
       "      <th>5900123</th>\n",
       "      <td>5900123</td>\n",
       "      <td>7</td>\n",
       "      <td>0</td>\n",
       "      <td>0</td>\n",
       "      <td>1.0</td>\n",
       "      <td>29661</td>\n",
       "      <td>380038</td>\n",
       "    </tr>\n",
       "    <tr>\n",
       "      <th>5900124</th>\n",
       "      <td>5900124</td>\n",
       "      <td>7</td>\n",
       "      <td>0</td>\n",
       "      <td>0</td>\n",
       "      <td>0.0</td>\n",
       "      <td>29661</td>\n",
       "      <td>251994</td>\n",
       "    </tr>\n",
       "    <tr>\n",
       "      <th>...</th>\n",
       "      <td>...</td>\n",
       "      <td>...</td>\n",
       "      <td>...</td>\n",
       "      <td>...</td>\n",
       "      <td>...</td>\n",
       "      <td>...</td>\n",
       "      <td>...</td>\n",
       "    </tr>\n",
       "    <tr>\n",
       "      <th>7376203</th>\n",
       "      <td>7376203</td>\n",
       "      <td>0</td>\n",
       "      <td>3</td>\n",
       "      <td>7</td>\n",
       "      <td>0.0</td>\n",
       "      <td>32667</td>\n",
       "      <td>275905</td>\n",
       "    </tr>\n",
       "    <tr>\n",
       "      <th>7376204</th>\n",
       "      <td>7376204</td>\n",
       "      <td>0</td>\n",
       "      <td>3</td>\n",
       "      <td>7</td>\n",
       "      <td>0.0</td>\n",
       "      <td>32667</td>\n",
       "      <td>246719</td>\n",
       "    </tr>\n",
       "    <tr>\n",
       "      <th>7376205</th>\n",
       "      <td>7376205</td>\n",
       "      <td>0</td>\n",
       "      <td>3</td>\n",
       "      <td>7</td>\n",
       "      <td>0.0</td>\n",
       "      <td>32667</td>\n",
       "      <td>342272</td>\n",
       "    </tr>\n",
       "    <tr>\n",
       "      <th>7376206</th>\n",
       "      <td>7376206</td>\n",
       "      <td>0</td>\n",
       "      <td>3</td>\n",
       "      <td>7</td>\n",
       "      <td>0.0</td>\n",
       "      <td>32667</td>\n",
       "      <td>360541</td>\n",
       "    </tr>\n",
       "    <tr>\n",
       "      <th>7376810</th>\n",
       "      <td>7376810</td>\n",
       "      <td>3</td>\n",
       "      <td>11</td>\n",
       "      <td>7</td>\n",
       "      <td>0.0</td>\n",
       "      <td>25325</td>\n",
       "      <td>177250</td>\n",
       "    </tr>\n",
       "  </tbody>\n",
       "</table>\n",
       "<p>89900 rows × 7 columns</p>\n",
       "</div>"
      ],
      "text/plain": [
       "         interaction_id  source_system_tab  source_screen_name  source_type  \\\n",
       "5900118         5900118                  0                  11            7   \n",
       "5900119         5900119                  0                  11            7   \n",
       "5900122         5900122                  7                   0            0   \n",
       "5900123         5900123                  7                   0            0   \n",
       "5900124         5900124                  7                   0            0   \n",
       "...                 ...                ...                 ...          ...   \n",
       "7376203         7376203                  0                   3            7   \n",
       "7376204         7376204                  0                   3            7   \n",
       "7376205         7376205                  0                   3            7   \n",
       "7376206         7376206                  0                   3            7   \n",
       "7376810         7376810                  3                  11            7   \n",
       "\n",
       "         target  user_id  item_id  \n",
       "5900118     1.0     6457   136095  \n",
       "5900119     1.0     6457   198975  \n",
       "5900122     1.0    29661    10149  \n",
       "5900123     1.0    29661   380038  \n",
       "5900124     0.0    29661   251994  \n",
       "...         ...      ...      ...  \n",
       "7376203     0.0    32667   275905  \n",
       "7376204     0.0    32667   246719  \n",
       "7376205     0.0    32667   342272  \n",
       "7376206     0.0    32667   360541  \n",
       "7376810     0.0    25325   177250  \n",
       "\n",
       "[89900 rows x 7 columns]"
      ]
     },
     "execution_count": 80,
     "metadata": {},
     "output_type": "execute_result"
    }
   ],
   "source": [
    "test_by_date"
   ]
  },
  {
   "cell_type": "code",
   "execution_count": 81,
   "id": "372cf9a1",
   "metadata": {
    "execution": {
     "iopub.execute_input": "2024-04-02T13:29:40.572594Z",
     "iopub.status.busy": "2024-04-02T13:29:40.571486Z",
     "iopub.status.idle": "2024-04-02T13:29:41.807196Z",
     "shell.execute_reply": "2024-04-02T13:29:41.805798Z",
     "shell.execute_reply.started": "2024-04-02T13:29:40.572546Z"
    }
   },
   "outputs": [],
   "source": [
    "del song_extra_info_df\n",
    "del songs_df\n",
    "del train_df\n",
    "del test_df\n",
    "del full_train_df\n",
    "del full_test_df"
   ]
  },
  {
   "cell_type": "code",
   "execution_count": 82,
   "id": "4fed7065",
   "metadata": {
    "colab": {
     "base_uri": "https://localhost:8080/"
    },
    "execution": {
     "iopub.execute_input": "2024-04-02T13:29:41.809304Z",
     "iopub.status.busy": "2024-04-02T13:29:41.808803Z",
     "iopub.status.idle": "2024-04-02T13:29:42.355414Z",
     "shell.execute_reply": "2024-04-02T13:29:42.354225Z",
     "shell.execute_reply.started": "2024-04-02T13:29:41.809260Z"
    },
    "id": "jTFoi8cEsRo2",
    "outputId": "66e2fd44-8327-464d-9525-009cfbb3a994"
   },
   "outputs": [
    {
     "data": {
      "text/plain": [
       "0"
      ]
     },
     "execution_count": 82,
     "metadata": {},
     "output_type": "execute_result"
    }
   ],
   "source": [
    "gc.collect()\n",
    "gc.collect()"
   ]
  },
  {
   "cell_type": "markdown",
   "id": "95a7a356",
   "metadata": {
    "id": "VSk5VCgJn59E"
   },
   "source": [
    "# Metrics"
   ]
  },
  {
   "cell_type": "markdown",
   "id": "55182d4c",
   "metadata": {},
   "source": [
    "Применим ряд метрик, помимо заданной по заданию, для более четкой оценки конкретной моделе, например - насколько новые треки в рекомендации предлагает модель."
   ]
  },
  {
   "cell_type": "code",
   "execution_count": 83,
   "id": "3d31fda6",
   "metadata": {
    "execution": {
     "iopub.execute_input": "2024-04-02T13:29:42.357489Z",
     "iopub.status.busy": "2024-04-02T13:29:42.356999Z",
     "iopub.status.idle": "2024-04-02T13:29:42.366172Z",
     "shell.execute_reply": "2024-04-02T13:29:42.365212Z",
     "shell.execute_reply.started": "2024-04-02T13:29:42.357440Z"
    },
    "id": "3u95alkuD1Og"
   },
   "outputs": [],
   "source": [
    "K=20"
   ]
  },
  {
   "cell_type": "code",
   "execution_count": 84,
   "id": "65eaced8",
   "metadata": {
    "execution": {
     "iopub.execute_input": "2024-04-02T13:29:42.368034Z",
     "iopub.status.busy": "2024-04-02T13:29:42.367682Z",
     "iopub.status.idle": "2024-04-02T13:29:42.378064Z",
     "shell.execute_reply": "2024-04-02T13:29:42.377145Z",
     "shell.execute_reply.started": "2024-04-02T13:29:42.368006Z"
    },
    "id": "RhWsOXblofGk"
   },
   "outputs": [],
   "source": [
    "def user_hr(row):\n",
    "    \"\"\"\n",
    "    Calculate HitRate value for pandas row with user_id, a list of ground truth items in ``gt_items``\n",
    "    and list or recommended items in ``pred_list``.\n",
    "    \"\"\"\n",
    "    for item in row['pred_list']:\n",
    "        if item in row['gt_list']:\n",
    "            return 1\n",
    "    return 0"
   ]
  },
  {
   "cell_type": "code",
   "execution_count": 85,
   "id": "ddd61aa1",
   "metadata": {
    "execution": {
     "iopub.execute_input": "2024-04-02T13:29:42.380000Z",
     "iopub.status.busy": "2024-04-02T13:29:42.379675Z",
     "iopub.status.idle": "2024-04-02T13:29:42.390318Z",
     "shell.execute_reply": "2024-04-02T13:29:42.389079Z",
     "shell.execute_reply.started": "2024-04-02T13:29:42.379973Z"
    },
    "id": "INzBzdNpoXS6"
   },
   "outputs": [],
   "source": [
    "def user_mrr(row):\n",
    "    \"\"\"\n",
    "    Calculate MRR value for pandas row with list of ground truth items in ``gt_list``\n",
    "    and list or recommended items in ``pred_list``.\n",
    "    \"\"\"\n",
    "    for rank, item in enumerate(row['pred_list']):\n",
    "        if item in row['gt_list']:\n",
    "            return 1 / (rank + 1)\n",
    "    return 0"
   ]
  },
  {
   "cell_type": "code",
   "execution_count": 86,
   "id": "23344305",
   "metadata": {
    "execution": {
     "iopub.execute_input": "2024-04-02T13:29:42.393023Z",
     "iopub.status.busy": "2024-04-02T13:29:42.391986Z",
     "iopub.status.idle": "2024-04-02T13:29:42.401296Z",
     "shell.execute_reply": "2024-04-02T13:29:42.399872Z",
     "shell.execute_reply.started": "2024-04-02T13:29:42.392989Z"
    },
    "id": "tQCJywxYoRbT"
   },
   "outputs": [],
   "source": [
    "def coverage(pred, k, all_items):\n",
    "    pred_to_consider = set(leave_top_k(pred, k)['item_id'].values)\n",
    "    all_items = set(all_items.values)\n",
    "    return len(pred_to_consider & all_items) / len(all_items)"
   ]
  },
  {
   "cell_type": "code",
   "execution_count": 87,
   "id": "b9e87c90",
   "metadata": {
    "execution": {
     "iopub.execute_input": "2024-04-02T13:29:42.403720Z",
     "iopub.status.busy": "2024-04-02T13:29:42.403342Z",
     "iopub.status.idle": "2024-04-02T13:29:42.416885Z",
     "shell.execute_reply": "2024-04-02T13:29:42.415819Z",
     "shell.execute_reply.started": "2024-04-02T13:29:42.403691Z"
    },
    "id": "2owJqlcCn9OO"
   },
   "outputs": [],
   "source": [
    "class Surprisal:\n",
    "    def __init__(self, log: pd.DataFrame):\n",
    "        self.num_users = log['user_id'].nunique()\n",
    "        self.item_pop = (log.groupby('item_id')[['user_id']].count() / self.num_users).rename(columns={'user_id':'rel'})\n",
    "\n",
    "    def __call__(self, pred, k):\n",
    "        \"\"\"\n",
    "        Calculate Surprisal value for ``pred`` with pre-calculated items' popularity\n",
    "        \"\"\"\n",
    "        top_k_recs = leave_top_k(pred, k)\n",
    "        matrix = top_k_recs[['item_id', 'user_id']].merge(self.item_pop, left_on='item_id', right_index=True, how='left').fillna(1 / self.num_users)\n",
    "        matrix.loc[:, 'rel'] = - np.log2(matrix['rel'])\n",
    "        user_self_inf = matrix.groupby('user_id')['rel'].sum()\n",
    "        user_self_inf /= k * np.log2(self.num_users)\n",
    "        return user_self_inf.mean()"
   ]
  },
  {
   "cell_type": "code",
   "execution_count": 88,
   "id": "ebfcba5f",
   "metadata": {
    "execution": {
     "iopub.execute_input": "2024-04-02T13:29:42.418745Z",
     "iopub.status.busy": "2024-04-02T13:29:42.418262Z",
     "iopub.status.idle": "2024-04-02T13:29:42.755682Z",
     "shell.execute_reply": "2024-04-02T13:29:42.754225Z",
     "shell.execute_reply.started": "2024-04-02T13:29:42.418695Z"
    },
    "id": "ZOKkFu9YoHkv"
   },
   "outputs": [],
   "source": [
    "surp = Surprisal(train_by_date)"
   ]
  },
  {
   "cell_type": "code",
   "execution_count": 89,
   "id": "8ae0d377",
   "metadata": {
    "execution": {
     "iopub.execute_input": "2024-04-02T13:29:42.758063Z",
     "iopub.status.busy": "2024-04-02T13:29:42.757669Z",
     "iopub.status.idle": "2024-04-02T13:29:42.768761Z",
     "shell.execute_reply": "2024-04-02T13:29:42.767455Z",
     "shell.execute_reply.started": "2024-04-02T13:29:42.758030Z"
    },
    "id": "VlWsML7oEcAG"
   },
   "outputs": [],
   "source": [
    "def metric_wrap(pred, ground_truth, k, metric_by_user):\n",
    "    \"\"\"\n",
    "    Prepare data for metric calculation (create dataframe with columns 'user_id', 'pred_list', 'gt_list').\n",
    "    'pred_list' is a list of top-k recommendation ordered by relevance (most relevant is the first)\n",
    "    'gt_list' is a list of items from tests data.\n",
    "    Return mean metric value and dataframe with metric value for each user\n",
    "    \"\"\"\n",
    "    # оставляем первые k рекомендаций\n",
    "    pred_cropped = leave_top_k(pred, k)\n",
    "    # собираем list-ы\n",
    "    pred_grouped = (pred_cropped\n",
    "                .sort_values(['user_id', 'relevance'], ascending=[False, False])\n",
    "                .groupby('user_id')['item_id']\n",
    "                .apply(list).rename('pred_list')\n",
    "               )\n",
    "    gt_grouped = ground_truth.groupby('user_id')['item_id'].apply(list).rename('gt_list')\n",
    "    to_compare = gt_grouped.to_frame().join(pred_grouped, how='left')\n",
    "    to_compare['pred_list'] = to_compare['pred_list'].apply(lambda x: x if isinstance(x, list) else [])\n",
    "    # применяем метрику\n",
    "    metric_by_user = to_compare.apply(metric_by_user, axis=1)\n",
    "    return metric_by_user.mean(), metric_by_user"
   ]
  },
  {
   "cell_type": "code",
   "execution_count": 90,
   "id": "789446fb",
   "metadata": {
    "execution": {
     "iopub.execute_input": "2024-04-02T13:29:42.770490Z",
     "iopub.status.busy": "2024-04-02T13:29:42.770140Z",
     "iopub.status.idle": "2024-04-02T13:29:42.782728Z",
     "shell.execute_reply": "2024-04-02T13:29:42.781248Z",
     "shell.execute_reply.started": "2024-04-02T13:29:42.770462Z"
    },
    "id": "O7_ep3sZn5dc"
   },
   "outputs": [],
   "source": [
    "def measure(pred, true, name, df=None, cov_items=None, surp=None):\n",
    "    if df is None:\n",
    "        df = pd.DataFrame(columns=['hit_rate@1', 'hit_rate@K', 'map@K', 'ndcg@K', 'coverage@K', 'surprisal@K'])\n",
    "    df.loc[name, 'hit_rate@1'] = metric_wrap(pred=pred, ground_truth=true, k=1, metric_by_user=user_hr)[0]\n",
    "    df.loc[name, 'hit_rate@K'] = metric_wrap(pred=pred, ground_truth=true, k=K, metric_by_user=user_hr)[0]\n",
    "    df.loc[name, 'hit_rate@K'] = metric_wrap(pred=pred, ground_truth=true, k=K, metric_by_user=user_hr)[0]\n",
    "    df.loc[name, 'map@K'] = mapr(true=true, pred=pred, k=K)\n",
    "    df.loc[name, 'ndcg@K'] = ndcg(true=true, pred=pred, k=K)\n",
    "\n",
    "    if cov_items is not None:\n",
    "        df.loc[name, 'coverage@K'] = coverage(pred=pred, k=K, all_items=cov_items)\n",
    "    if surp is not None:\n",
    "        df.loc[name, 'surprisal@K'] = surp(pred=pred, k=K)\n",
    "    return df"
   ]
  },
  {
   "cell_type": "code",
   "execution_count": 91,
   "id": "6489aa41",
   "metadata": {
    "colab": {
     "base_uri": "https://localhost:8080/"
    },
    "execution": {
     "iopub.execute_input": "2024-04-02T13:29:42.784390Z",
     "iopub.status.busy": "2024-04-02T13:29:42.783987Z",
     "iopub.status.idle": "2024-04-02T13:29:43.279125Z",
     "shell.execute_reply": "2024-04-02T13:29:43.277511Z",
     "shell.execute_reply.started": "2024-04-02T13:29:42.784357Z"
    },
    "id": "bCLqA2SCsTBw",
    "outputId": "e980956f-2e04-4d31-bdfa-f03d76ee6b22"
   },
   "outputs": [
    {
     "data": {
      "text/plain": [
       "0"
      ]
     },
     "execution_count": 91,
     "metadata": {},
     "output_type": "execute_result"
    }
   ],
   "source": [
    "gc.collect()\n",
    "gc.collect()"
   ]
  },
  {
   "cell_type": "markdown",
   "id": "c56386c9",
   "metadata": {
    "id": "RHRmumuH3ZO-"
   },
   "source": [
    "# Baseline(Recommend Popular model)"
   ]
  },
  {
   "cell_type": "markdown",
   "id": "a8f9e05f",
   "metadata": {},
   "source": [
    "В качестве моделе возьмем самую простую модель — модель, которая будет рекомендовать популярные треки (треки, которые чаще всего слушали). Построим такую модель."
   ]
  },
  {
   "cell_type": "code",
   "execution_count": 92,
   "id": "598c37ca",
   "metadata": {
    "execution": {
     "iopub.execute_input": "2024-04-02T13:29:43.282412Z",
     "iopub.status.busy": "2024-04-02T13:29:43.281690Z",
     "iopub.status.idle": "2024-04-02T13:29:43.642487Z",
     "shell.execute_reply": "2024-04-02T13:29:43.641246Z",
     "shell.execute_reply.started": "2024-04-02T13:29:43.282367Z"
    },
    "id": "azZshioD3kN4"
   },
   "outputs": [],
   "source": [
    "popularity = train_by_date.groupby('item_id')['user_id'].count().rename('popularity').sort_values(ascending=False)\n",
    "popularity /= train_by_date['user_id'].nunique()"
   ]
  },
  {
   "cell_type": "code",
   "execution_count": 93,
   "id": "3527e37e",
   "metadata": {
    "colab": {
     "base_uri": "https://localhost:8080/",
     "height": 363
    },
    "execution": {
     "iopub.execute_input": "2024-04-02T13:29:43.644988Z",
     "iopub.status.busy": "2024-04-02T13:29:43.644512Z",
     "iopub.status.idle": "2024-04-02T13:29:43.861828Z",
     "shell.execute_reply": "2024-04-02T13:29:43.860539Z",
     "shell.execute_reply.started": "2024-04-02T13:29:43.644947Z"
    },
    "id": "g1lXScE73m2s",
    "outputId": "7b9838bd-f11a-46a0-c43f-23ecc9353367"
   },
   "outputs": [
    {
     "data": {
      "text/html": [
       "<div>\n",
       "<style scoped>\n",
       "    .dataframe tbody tr th:only-of-type {\n",
       "        vertical-align: middle;\n",
       "    }\n",
       "\n",
       "    .dataframe tbody tr th {\n",
       "        vertical-align: top;\n",
       "    }\n",
       "\n",
       "    .dataframe thead th {\n",
       "        text-align: right;\n",
       "    }\n",
       "</style>\n",
       "<table border=\"1\" class=\"dataframe\">\n",
       "  <thead>\n",
       "    <tr style=\"text-align: right;\">\n",
       "      <th></th>\n",
       "      <th>item_id</th>\n",
       "      <th>popularity</th>\n",
       "      <th>song_length</th>\n",
       "      <th>genre_ids</th>\n",
       "      <th>artist_name</th>\n",
       "      <th>composer</th>\n",
       "      <th>lyricist</th>\n",
       "      <th>language</th>\n",
       "      <th>name</th>\n",
       "      <th>isrc</th>\n",
       "    </tr>\n",
       "  </thead>\n",
       "  <tbody>\n",
       "    <tr>\n",
       "      <th>0</th>\n",
       "      <td>365248</td>\n",
       "      <td>0.455081</td>\n",
       "      <td>219324.0</td>\n",
       "      <td>458</td>\n",
       "      <td>周湯豪 (NICKTHEREAL)</td>\n",
       "      <td>周湯豪</td>\n",
       "      <td>周湯豪\\崔惟楷</td>\n",
       "      <td>3.0</td>\n",
       "      <td>帥到分手</td>\n",
       "      <td>TWAG11600306</td>\n",
       "    </tr>\n",
       "    <tr>\n",
       "      <th>1</th>\n",
       "      <td>204493</td>\n",
       "      <td>0.433710</td>\n",
       "      <td>215144.0</td>\n",
       "      <td>458</td>\n",
       "      <td>周杰倫 (Jay Chou)</td>\n",
       "      <td>周杰倫</td>\n",
       "      <td>方文山</td>\n",
       "      <td>3.0</td>\n",
       "      <td>告白氣球</td>\n",
       "      <td>TWK971601308</td>\n",
       "    </tr>\n",
       "    <tr>\n",
       "      <th>2</th>\n",
       "      <td>118074</td>\n",
       "      <td>0.421781</td>\n",
       "      <td>287328.0</td>\n",
       "      <td>458</td>\n",
       "      <td>Eric 周興哲</td>\n",
       "      <td>Eric Chou</td>\n",
       "      <td>Eric Chou| Yi-Wei Wu</td>\n",
       "      <td>3.0</td>\n",
       "      <td>你，好不好？ (How Have You Been?)</td>\n",
       "      <td>TWA471602002</td>\n",
       "    </tr>\n",
       "    <tr>\n",
       "      <th>3</th>\n",
       "      <td>395262</td>\n",
       "      <td>0.417463</td>\n",
       "      <td>265508.0</td>\n",
       "      <td>465</td>\n",
       "      <td>田馥甄 (Hebe)</td>\n",
       "      <td>JerryC</td>\n",
       "      <td>徐世珍/吳輝福</td>\n",
       "      <td>3.0</td>\n",
       "      <td>小幸運 (A little happiness)</td>\n",
       "      <td>TWD951562101</td>\n",
       "    </tr>\n",
       "    <tr>\n",
       "      <th>4</th>\n",
       "      <td>181909</td>\n",
       "      <td>0.395616</td>\n",
       "      <td>227343.0</td>\n",
       "      <td>465</td>\n",
       "      <td>謝和弦 (R-chord)</td>\n",
       "      <td>R-chord</td>\n",
       "      <td>R-chord</td>\n",
       "      <td>3.0</td>\n",
       "      <td>謝謝妳愛我 (Thanks For Your Love)</td>\n",
       "      <td>TWA531657203</td>\n",
       "    </tr>\n",
       "    <tr>\n",
       "      <th>5</th>\n",
       "      <td>238767</td>\n",
       "      <td>0.385187</td>\n",
       "      <td>185295.0</td>\n",
       "      <td>451</td>\n",
       "      <td>陳奕迅 (Eason Chan)</td>\n",
       "      <td>Tang Han Xiao</td>\n",
       "      <td>Tang Han Xiao</td>\n",
       "      <td>3.0</td>\n",
       "      <td>讓我留在你身邊</td>\n",
       "      <td>HKJ631603001</td>\n",
       "    </tr>\n",
       "    <tr>\n",
       "      <th>6</th>\n",
       "      <td>211063</td>\n",
       "      <td>0.377319</td>\n",
       "      <td>290063.0</td>\n",
       "      <td>458</td>\n",
       "      <td>周杰倫 (Jay Chou)</td>\n",
       "      <td>周杰倫</td>\n",
       "      <td>方文山</td>\n",
       "      <td>3.0</td>\n",
       "      <td>不該</td>\n",
       "      <td>TWK971601306</td>\n",
       "    </tr>\n",
       "    <tr>\n",
       "      <th>7</th>\n",
       "      <td>159035</td>\n",
       "      <td>0.372489</td>\n",
       "      <td>265848.0</td>\n",
       "      <td>465</td>\n",
       "      <td>林俊傑 (JJ Lin)</td>\n",
       "      <td>JJ Lin</td>\n",
       "      <td>Lin Qiu Li</td>\n",
       "      <td>3.0</td>\n",
       "      <td>不為誰而作的歌 (Twilight)</td>\n",
       "      <td>TWA531576502</td>\n",
       "    </tr>\n",
       "    <tr>\n",
       "      <th>8</th>\n",
       "      <td>40286</td>\n",
       "      <td>0.362645</td>\n",
       "      <td>346272.0</td>\n",
       "      <td>458</td>\n",
       "      <td>五月天 (Mayday)</td>\n",
       "      <td>怪獸</td>\n",
       "      <td>阿信</td>\n",
       "      <td>3.0</td>\n",
       "      <td>後來的我們 (Here| After| Us)</td>\n",
       "      <td>TWK231610206</td>\n",
       "    </tr>\n",
       "    <tr>\n",
       "      <th>9</th>\n",
       "      <td>268835</td>\n",
       "      <td>0.343323</td>\n",
       "      <td>250357.0</td>\n",
       "      <td>458</td>\n",
       "      <td>五月天 (Mayday)</td>\n",
       "      <td>阿信</td>\n",
       "      <td>阿信</td>\n",
       "      <td>3.0</td>\n",
       "      <td>派對動物 (Party Animal)</td>\n",
       "      <td>TWK231680790</td>\n",
       "    </tr>\n",
       "  </tbody>\n",
       "</table>\n",
       "</div>"
      ],
      "text/plain": [
       "   item_id  popularity  song_length genre_ids        artist_name  \\\n",
       "0   365248    0.455081     219324.0       458  周湯豪 (NICKTHEREAL)   \n",
       "1   204493    0.433710     215144.0       458     周杰倫 (Jay Chou)   \n",
       "2   118074    0.421781     287328.0       458           Eric 周興哲   \n",
       "3   395262    0.417463     265508.0       465         田馥甄 (Hebe)   \n",
       "4   181909    0.395616     227343.0       465      謝和弦 (R-chord)   \n",
       "5   238767    0.385187     185295.0       451   陳奕迅 (Eason Chan)   \n",
       "6   211063    0.377319     290063.0       458     周杰倫 (Jay Chou)   \n",
       "7   159035    0.372489     265848.0       465       林俊傑 (JJ Lin)   \n",
       "8    40286    0.362645     346272.0       458       五月天 (Mayday)   \n",
       "9   268835    0.343323     250357.0       458       五月天 (Mayday)   \n",
       "\n",
       "        composer              lyricist  language  \\\n",
       "0            周湯豪               周湯豪\\崔惟楷       3.0   \n",
       "1            周杰倫                   方文山       3.0   \n",
       "2      Eric Chou  Eric Chou| Yi-Wei Wu       3.0   \n",
       "3         JerryC               徐世珍/吳輝福       3.0   \n",
       "4        R-chord               R-chord       3.0   \n",
       "5  Tang Han Xiao         Tang Han Xiao       3.0   \n",
       "6            周杰倫                   方文山       3.0   \n",
       "7         JJ Lin            Lin Qiu Li       3.0   \n",
       "8             怪獸                    阿信       3.0   \n",
       "9             阿信                    阿信       3.0   \n",
       "\n",
       "                           name          isrc  \n",
       "0                          帥到分手  TWAG11600306  \n",
       "1                          告白氣球  TWK971601308  \n",
       "2   你，好不好？ (How Have You Been?)  TWA471602002  \n",
       "3      小幸運 (A little happiness)  TWD951562101  \n",
       "4  謝謝妳愛我 (Thanks For Your Love)  TWA531657203  \n",
       "5                       讓我留在你身邊  HKJ631603001  \n",
       "6                            不該  TWK971601306  \n",
       "7            不為誰而作的歌 (Twilight)  TWA531576502  \n",
       "8       後來的我們 (Here| After| Us)  TWK231610206  \n",
       "9           派對動物 (Party Animal)  TWK231680790  "
      ]
     },
     "execution_count": 93,
     "metadata": {},
     "output_type": "execute_result"
    }
   ],
   "source": [
    "pd.DataFrame(popularity).merge(i_features_filtered, on='item_id').head(10)"
   ]
  },
  {
   "cell_type": "code",
   "execution_count": 94,
   "id": "06fc0f2a",
   "metadata": {
    "execution": {
     "iopub.execute_input": "2024-04-02T13:29:43.864947Z",
     "iopub.status.busy": "2024-04-02T13:29:43.864483Z",
     "iopub.status.idle": "2024-04-02T13:29:43.886600Z",
     "shell.execute_reply": "2024-04-02T13:29:43.885057Z",
     "shell.execute_reply.started": "2024-04-02T13:29:43.864903Z"
    },
    "id": "cytxVneTDZWH"
   },
   "outputs": [],
   "source": [
    "def leave_top_k(pred: pd.DataFrame,\n",
    "                 k: int,\n",
    "                 group_by_col: str='user_id',\n",
    "                 order_by_col: str='relevance') -> pd.DataFrame:\n",
    "    \"\"\"\n",
    "    crop predictions to leave top-k recommendations for each user\n",
    "    \"\"\"\n",
    "    if pred.groupby(group_by_col)[group_by_col].count().max() <= k:\n",
    "        return pred\n",
    "    cropped_pred = deepcopy(pred)\n",
    "    cropped_pred['rank'] = (cropped_pred\n",
    "                            .groupby(group_by_col)[[order_by_col]]\n",
    "                            .rank(method=\"first\", ascending=False))\n",
    "    cropped_pred = cropped_pred[cropped_pred['rank'] <= k].drop(columns=['rank'])\n",
    "    return cropped_pred\n",
    "\n",
    "\n",
    "def filter_seen_items(log: pd.DataFrame,\n",
    "                 pred: pd.DataFrame) -> pd.DataFrame:\n",
    "    \"\"\"\n",
    "    filter pairs `user-item` present in log out of pred\n",
    "    \"\"\"\n",
    "    log_filtered = log[log['user_id'].isin(pred['user_id'].unique())]\n",
    "    pred = pred.merge(log_filtered[['user_id', 'item_id']].drop_duplicates(),\n",
    "                                on=['user_id', 'item_id'],\n",
    "                                how='outer',\n",
    "                                indicator = True)\n",
    "    return pred[pred['_merge'] == 'left_only'].drop(columns=['_merge'])\n",
    "\n",
    "\n",
    "class ParentModel:\n",
    "    @abc.abstractmethod\n",
    "    def fit(self,\n",
    "            log: pd.DataFrame,\n",
    "            user_features: Optional[pd.DataFrame]=None,\n",
    "            item_features: Optional[pd.DataFrame]=None):\n",
    "        \"\"\"\n",
    "        fit recommender\n",
    "\n",
    "        Parameters\n",
    "        ----------\n",
    "        log : pandas dataframe with columns [user_id, item_id, timestamp, relevance]\n",
    "        user_features : pandas dataframe with column `user_id` and features columns\n",
    "        item_features : pandas dataframe with column `item_id` and features columns\n",
    "\n",
    "        Returns\n",
    "        -------\n",
    "\n",
    "        \"\"\"\n",
    "\n",
    "\n",
    "    def predict(self,\n",
    "                log: pd.DataFrame,\n",
    "                users: pd.Series,\n",
    "                k: int,\n",
    "                user_features: Optional[pd.DataFrame]=None,\n",
    "                item_features: Optional[pd.DataFrame]=None,\n",
    "                filter_seen: bool = True) -> pd.DataFrame:\n",
    "        \"\"\"\n",
    "        predict with fitted model, filter seen and crop to top-k for each user\n",
    "\n",
    "        Parameters\n",
    "        ----------\n",
    "        log: pandas dataframe with columns [user_id, item_id, timestamp, relevance]\n",
    "            used to filter seen and to make predictions by some models\n",
    "        users: user ids to recommend for\n",
    "        k: number of recommendations for each user\n",
    "        user_features: pandas dataframe with column `user_id` and features columns\n",
    "        item_features: pandas dataframe with column `item_id` and features columns\n",
    "        filter_seen: if True, items present in user history are filtered from predictions\n",
    "\n",
    "        Returns\n",
    "        -------\n",
    "        pandas dataframe with columns [user_id, item_id, relevance]\n",
    "            top-k recommended items for each user from `users`.\n",
    "        \"\"\"\n",
    "\n",
    "        # overhead\n",
    "        max_items_in_train = log.groupby('user_id')[['item_id']].count().max()[0] if filter_seen else 0\n",
    "\n",
    "        pred = self._predict(\n",
    "            log=log,\n",
    "            users=users,\n",
    "            k=max_items_in_train+k,\n",
    "            user_features=user_features,\n",
    "            item_features=item_features,\n",
    "            filter_seen=filter_seen)\n",
    "        if filter_seen:\n",
    "            pred = filter_seen_items(log, pred)\n",
    "\n",
    "        return leave_top_k(pred, k)\n",
    "\n",
    "\n",
    "    @abc.abstractmethod\n",
    "    def _predict(self,\n",
    "                log: pd.DataFrame,\n",
    "                users: pd.Series,\n",
    "                k: int,\n",
    "                user_features: Optional[pd.DataFrame]=None,\n",
    "                item_features: Optional[pd.DataFrame]=None,\n",
    "                filter_seen:bool = True) -> pd.DataFrame:\n",
    "        \"\"\"\n",
    "        predict with fitted model\n",
    "        \"\"\""
   ]
  },
  {
   "cell_type": "code",
   "execution_count": 95,
   "id": "30d6cfc1",
   "metadata": {
    "execution": {
     "iopub.execute_input": "2024-04-02T13:29:43.900614Z",
     "iopub.status.busy": "2024-04-02T13:29:43.900086Z",
     "iopub.status.idle": "2024-04-02T13:29:43.914701Z",
     "shell.execute_reply": "2024-04-02T13:29:43.913511Z",
     "shell.execute_reply.started": "2024-04-02T13:29:43.900573Z"
    },
    "id": "793dH-Q1De88"
   },
   "outputs": [],
   "source": [
    "class PopularModel(ParentModel):\n",
    "    items_popularity: pd.DataFrame\n",
    "\n",
    "    def fit(self,\n",
    "            log: pd.DataFrame,\n",
    "            user_features: Optional[pd.DataFrame]=None,\n",
    "            item_features: Optional[pd.DataFrame]=None) -> 'PopularModel':\n",
    "\n",
    "        self.items_popularity = log.groupby('item_id')['user_id'].count().sort_values(ascending=False).rename('popularity') / log['user_id'].nunique()\n",
    "        return self\n",
    "\n",
    "    def _predict(self,\n",
    "                log: pd.DataFrame,\n",
    "                users: pd.Series,\n",
    "                k: int,\n",
    "                user_features: Optional[pd.DataFrame]=None,\n",
    "                item_features: Optional[pd.DataFrame]=None,\n",
    "                filter_seen:bool = True) -> pd.DataFrame:\n",
    "\n",
    "        users_to_join = pd.DataFrame(users)\n",
    "        users_to_join['key'] = 0\n",
    "        pred = pd.DataFrame({'item_id': self.items_popularity[:k].index.to_list(),\n",
    "                     'relevance': self.items_popularity[:k].values})\n",
    "        pred['key'] = 0\n",
    "        return users_to_join.merge(pred, on='key', how='outer').drop(columns=['key']).reset_index(drop=True)"
   ]
  },
  {
   "cell_type": "code",
   "execution_count": 96,
   "id": "5eec89b2",
   "metadata": {
    "colab": {
     "base_uri": "https://localhost:8080/"
    },
    "execution": {
     "iopub.execute_input": "2024-04-02T13:29:43.916878Z",
     "iopub.status.busy": "2024-04-02T13:29:43.916423Z",
     "iopub.status.idle": "2024-04-02T13:29:44.222529Z",
     "shell.execute_reply": "2024-04-02T13:29:44.221383Z",
     "shell.execute_reply.started": "2024-04-02T13:29:43.916840Z"
    },
    "id": "vGafr4PsDujk",
    "outputId": "e7b9c0e4-100c-4fa9-9967-e72610103682"
   },
   "outputs": [
    {
     "name": "stdout",
     "output_type": "stream",
     "text": [
      "CPU times: user 288 ms, sys: 822 µs, total: 289 ms\n",
      "Wall time: 288 ms\n"
     ]
    },
    {
     "data": {
      "text/plain": [
       "<__main__.PopularModel at 0x7d2999675f30>"
      ]
     },
     "execution_count": 96,
     "metadata": {},
     "output_type": "execute_result"
    }
   ],
   "source": [
    "%%time\n",
    "rec = PopularModel()\n",
    "rec.fit(train_by_date)"
   ]
  },
  {
   "cell_type": "code",
   "execution_count": 97,
   "id": "08bf2260",
   "metadata": {
    "execution": {
     "iopub.execute_input": "2024-04-02T13:29:44.224147Z",
     "iopub.status.busy": "2024-04-02T13:29:44.223822Z",
     "iopub.status.idle": "2024-04-02T13:32:29.919218Z",
     "shell.execute_reply": "2024-04-02T13:32:29.918138Z",
     "shell.execute_reply.started": "2024-04-02T13:29:44.224121Z"
    },
    "id": "KFmMy5RbDxKq"
   },
   "outputs": [
    {
     "name": "stderr",
     "output_type": "stream",
     "text": [
      "/tmp/ipykernel_191/2434742960.py:79: FutureWarning: Series.__getitem__ treating keys as positions is deprecated. In a future version, integer keys will always be treated as labels (consistent with DataFrame behavior). To access a value by position, use `ser.iloc[pos]`\n",
      "  max_items_in_train = log.groupby('user_id')[['item_id']].count().max()[0] if filter_seen else 0\n"
     ]
    }
   ],
   "source": [
    "pred = rec.predict(log=train_by_date, users=test_by_date_users, k=K, filter_seen=True)"
   ]
  },
  {
   "cell_type": "code",
   "execution_count": 98,
   "id": "ef186434",
   "metadata": {
    "execution": {
     "iopub.execute_input": "2024-04-02T13:32:29.922011Z",
     "iopub.status.busy": "2024-04-02T13:32:29.921547Z",
     "iopub.status.idle": "2024-04-02T13:32:29.936465Z",
     "shell.execute_reply": "2024-04-02T13:32:29.935142Z",
     "shell.execute_reply.started": "2024-04-02T13:32:29.921970Z"
    },
    "id": "gS05ayg3D0NX"
   },
   "outputs": [
    {
     "data": {
      "text/html": [
       "<div>\n",
       "<style scoped>\n",
       "    .dataframe tbody tr th:only-of-type {\n",
       "        vertical-align: middle;\n",
       "    }\n",
       "\n",
       "    .dataframe tbody tr th {\n",
       "        vertical-align: top;\n",
       "    }\n",
       "\n",
       "    .dataframe thead th {\n",
       "        text-align: right;\n",
       "    }\n",
       "</style>\n",
       "<table border=\"1\" class=\"dataframe\">\n",
       "  <thead>\n",
       "    <tr style=\"text-align: right;\">\n",
       "      <th></th>\n",
       "      <th>user_id</th>\n",
       "      <th>item_id</th>\n",
       "      <th>relevance</th>\n",
       "    </tr>\n",
       "  </thead>\n",
       "  <tbody>\n",
       "    <tr>\n",
       "      <th>19</th>\n",
       "      <td>0</td>\n",
       "      <td>2498</td>\n",
       "      <td>0.245911</td>\n",
       "    </tr>\n",
       "    <tr>\n",
       "      <th>30</th>\n",
       "      <td>0</td>\n",
       "      <td>3221</td>\n",
       "      <td>0.323819</td>\n",
       "    </tr>\n",
       "    <tr>\n",
       "      <th>84</th>\n",
       "      <td>0</td>\n",
       "      <td>7509</td>\n",
       "      <td>0.265488</td>\n",
       "    </tr>\n",
       "    <tr>\n",
       "      <th>390</th>\n",
       "      <td>0</td>\n",
       "      <td>36546</td>\n",
       "      <td>0.272368</td>\n",
       "    </tr>\n",
       "    <tr>\n",
       "      <th>613</th>\n",
       "      <td>0</td>\n",
       "      <td>59992</td>\n",
       "      <td>0.332162</td>\n",
       "    </tr>\n",
       "    <tr>\n",
       "      <th>926</th>\n",
       "      <td>0</td>\n",
       "      <td>87569</td>\n",
       "      <td>0.285469</td>\n",
       "    </tr>\n",
       "    <tr>\n",
       "      <th>1028</th>\n",
       "      <td>0</td>\n",
       "      <td>96964</td>\n",
       "      <td>0.249167</td>\n",
       "    </tr>\n",
       "    <tr>\n",
       "      <th>1228</th>\n",
       "      <td>0</td>\n",
       "      <td>118074</td>\n",
       "      <td>0.421781</td>\n",
       "    </tr>\n",
       "    <tr>\n",
       "      <th>1394</th>\n",
       "      <td>0</td>\n",
       "      <td>133878</td>\n",
       "      <td>0.319062</td>\n",
       "    </tr>\n",
       "    <tr>\n",
       "      <th>1591</th>\n",
       "      <td>0</td>\n",
       "      <td>152285</td>\n",
       "      <td>0.255352</td>\n",
       "    </tr>\n",
       "    <tr>\n",
       "      <th>1663</th>\n",
       "      <td>0</td>\n",
       "      <td>159035</td>\n",
       "      <td>0.372489</td>\n",
       "    </tr>\n",
       "  </tbody>\n",
       "</table>\n",
       "</div>"
      ],
      "text/plain": [
       "      user_id  item_id  relevance\n",
       "19          0     2498   0.245911\n",
       "30          0     3221   0.323819\n",
       "84          0     7509   0.265488\n",
       "390         0    36546   0.272368\n",
       "613         0    59992   0.332162\n",
       "926         0    87569   0.285469\n",
       "1028        0    96964   0.249167\n",
       "1228        0   118074   0.421781\n",
       "1394        0   133878   0.319062\n",
       "1591        0   152285   0.255352\n",
       "1663        0   159035   0.372489"
      ]
     },
     "execution_count": 98,
     "metadata": {},
     "output_type": "execute_result"
    }
   ],
   "source": [
    "pred.head(11)"
   ]
  },
  {
   "cell_type": "code",
   "execution_count": 99,
   "id": "44feb656",
   "metadata": {
    "execution": {
     "iopub.execute_input": "2024-04-02T13:32:29.939285Z",
     "iopub.status.busy": "2024-04-02T13:32:29.938135Z",
     "iopub.status.idle": "2024-04-02T13:32:29.958509Z",
     "shell.execute_reply": "2024-04-02T13:32:29.957371Z",
     "shell.execute_reply.started": "2024-04-02T13:32:29.939251Z"
    },
    "id": "Zjk2LFCbfDFI"
   },
   "outputs": [],
   "source": [
    "assert pred.shape[0] == test_by_date_users.shape[0] * K\n",
    "assert (pred.groupby('user_id')['item_id'].count() == K).all()\n",
    "assert pred['item_id'].nunique() > K"
   ]
  },
  {
   "cell_type": "code",
   "execution_count": 100,
   "id": "ab1c56ae",
   "metadata": {
    "execution": {
     "iopub.execute_input": "2024-04-02T13:32:29.960475Z",
     "iopub.status.busy": "2024-04-02T13:32:29.960093Z",
     "iopub.status.idle": "2024-04-02T13:32:44.447853Z",
     "shell.execute_reply": "2024-04-02T13:32:44.446423Z",
     "shell.execute_reply.started": "2024-04-02T13:32:29.960444Z"
    },
    "id": "DWDAjsGyE2GH"
   },
   "outputs": [
    {
     "name": "stdout",
     "output_type": "stream",
     "text": [
      "CPU times: user 13.1 s, sys: 441 ms, total: 13.5 s\n",
      "Wall time: 14.5 s\n"
     ]
    },
    {
     "data": {
      "text/html": [
       "<div>\n",
       "<style scoped>\n",
       "    .dataframe tbody tr th:only-of-type {\n",
       "        vertical-align: middle;\n",
       "    }\n",
       "\n",
       "    .dataframe tbody tr th {\n",
       "        vertical-align: top;\n",
       "    }\n",
       "\n",
       "    .dataframe thead th {\n",
       "        text-align: right;\n",
       "    }\n",
       "</style>\n",
       "<table border=\"1\" class=\"dataframe\">\n",
       "  <thead>\n",
       "    <tr style=\"text-align: right;\">\n",
       "      <th></th>\n",
       "      <th>hit_rate@1</th>\n",
       "      <th>hit_rate@K</th>\n",
       "      <th>map@K</th>\n",
       "      <th>ndcg@K</th>\n",
       "      <th>coverage@K</th>\n",
       "      <th>surprisal@K</th>\n",
       "    </tr>\n",
       "  </thead>\n",
       "  <tbody>\n",
       "    <tr>\n",
       "      <th>popular</th>\n",
       "      <td>0.031257</td>\n",
       "      <td>0.192047</td>\n",
       "      <td>0.010794</td>\n",
       "      <td>0.031517</td>\n",
       "      <td>0.001449</td>\n",
       "      <td>0.122557</td>\n",
       "    </tr>\n",
       "  </tbody>\n",
       "</table>\n",
       "</div>"
      ],
      "text/plain": [
       "        hit_rate@1 hit_rate@K     map@K    ndcg@K coverage@K surprisal@K\n",
       "popular   0.031257   0.192047  0.010794  0.031517   0.001449    0.122557"
      ]
     },
     "execution_count": 100,
     "metadata": {},
     "output_type": "execute_result"
    }
   ],
   "source": [
    "%%time\n",
    "metrics = measure(pred, test_by_date, 'popular', cov_items=filtered_df['item_id'], surp=surp)\n",
    "metrics"
   ]
  },
  {
   "cell_type": "code",
   "execution_count": 101,
   "id": "bcb24847",
   "metadata": {
    "execution": {
     "iopub.execute_input": "2024-04-02T13:32:44.450370Z",
     "iopub.status.busy": "2024-04-02T13:32:44.449859Z",
     "iopub.status.idle": "2024-04-02T13:32:44.456855Z",
     "shell.execute_reply": "2024-04-02T13:32:44.455654Z",
     "shell.execute_reply.started": "2024-04-02T13:32:44.450323Z"
    }
   },
   "outputs": [],
   "source": [
    "del rec\n",
    "del pred"
   ]
  },
  {
   "cell_type": "code",
   "execution_count": 102,
   "id": "78f6dbd3",
   "metadata": {
    "execution": {
     "iopub.execute_input": "2024-04-02T13:32:44.458865Z",
     "iopub.status.busy": "2024-04-02T13:32:44.458495Z",
     "iopub.status.idle": "2024-04-02T13:32:44.995159Z",
     "shell.execute_reply": "2024-04-02T13:32:44.993836Z",
     "shell.execute_reply.started": "2024-04-02T13:32:44.458833Z"
    },
    "id": "jWLvS1ZMsUaB"
   },
   "outputs": [
    {
     "data": {
      "text/plain": [
       "0"
      ]
     },
     "execution_count": 102,
     "metadata": {},
     "output_type": "execute_result"
    }
   ],
   "source": [
    "gc.collect()\n",
    "gc.collect()"
   ]
  },
  {
   "cell_type": "markdown",
   "id": "dcb528a6",
   "metadata": {
    "id": "atBrHuB3qbQC"
   },
   "source": [
    "# LightFM"
   ]
  },
  {
   "cell_type": "code",
   "execution_count": 103,
   "id": "a4121ab1",
   "metadata": {
    "execution": {
     "iopub.execute_input": "2024-04-02T13:32:44.997549Z",
     "iopub.status.busy": "2024-04-02T13:32:44.997150Z",
     "iopub.status.idle": "2024-04-02T13:32:47.351711Z",
     "shell.execute_reply": "2024-04-02T13:32:47.350463Z",
     "shell.execute_reply.started": "2024-04-02T13:32:44.997519Z"
    },
    "id": "VyuF5494qh75"
   },
   "outputs": [
    {
     "name": "stdout",
     "output_type": "stream",
     "text": [
      "CPU times: user 2.33 s, sys: 8.81 ms, total: 2.34 s\n",
      "Wall time: 2.34 s\n"
     ]
    }
   ],
   "source": [
    "%%time\n",
    "u_features_filtered.set_index('user_id', inplace=True)\n",
    "u_features_list = u_features_filtered.apply(lambda x: ['{}_{}'.format(value,x[value]) for value in x.index if not pd.isna(x[value])], axis=1)\n",
    "u_features_list = u_features_list.rename('features')"
   ]
  },
  {
   "cell_type": "code",
   "execution_count": 104,
   "id": "ba771e11",
   "metadata": {
    "execution": {
     "iopub.execute_input": "2024-04-02T13:32:47.353950Z",
     "iopub.status.busy": "2024-04-02T13:32:47.353563Z",
     "iopub.status.idle": "2024-04-02T13:32:47.362786Z",
     "shell.execute_reply": "2024-04-02T13:32:47.361375Z",
     "shell.execute_reply.started": "2024-04-02T13:32:47.353919Z"
    },
    "id": "JQ51hPkfqtM6"
   },
   "outputs": [
    {
     "data": {
      "text/plain": [
       "['city_1',\n",
       " 'bd_0',\n",
       " 'registered_via_4',\n",
       " 'registration_init_time_20161211',\n",
       " 'expiration_date_20161214']"
      ]
     },
     "execution_count": 104,
     "metadata": {},
     "output_type": "execute_result"
    }
   ],
   "source": [
    "u_features_list[TEST_USER]"
   ]
  },
  {
   "cell_type": "code",
   "execution_count": 105,
   "id": "0660be82",
   "metadata": {
    "execution": {
     "iopub.execute_input": "2024-04-02T13:32:47.364876Z",
     "iopub.status.busy": "2024-04-02T13:32:47.364503Z",
     "iopub.status.idle": "2024-04-02T13:32:47.437119Z",
     "shell.execute_reply": "2024-04-02T13:32:47.435788Z",
     "shell.execute_reply.started": "2024-04-02T13:32:47.364847Z"
    },
    "id": "6c5zDyC3qzFc"
   },
   "outputs": [],
   "source": [
    "unique_user_tags = set(u_features_list.explode().dropna().values)"
   ]
  },
  {
   "cell_type": "code",
   "execution_count": 106,
   "id": "c215a003",
   "metadata": {
    "execution": {
     "iopub.execute_input": "2024-04-02T13:32:47.439592Z",
     "iopub.status.busy": "2024-04-02T13:32:47.439135Z",
     "iopub.status.idle": "2024-04-02T13:32:48.681805Z",
     "shell.execute_reply": "2024-04-02T13:32:48.680298Z",
     "shell.execute_reply.started": "2024-04-02T13:32:47.439553Z"
    },
    "id": "0gmPACzdq34l"
   },
   "outputs": [
    {
     "name": "stderr",
     "output_type": "stream",
     "text": [
      "/tmp/ipykernel_191/2336675701.py:4: FutureWarning: A value is trying to be set on a copy of a DataFrame or Series through chained assignment using an inplace method.\n",
      "The behavior will change in pandas 3.0. This inplace method will never work because the intermediate object on which we are setting values always behaves as a copy.\n",
      "\n",
      "For example, when doing 'df[col].method(value, inplace=True)', try using 'df.method({col: value}, inplace=True)' or df[col] = df[col].method(value) instead, to perform the operation inplace on the original object.\n",
      "\n",
      "\n",
      "  i_features_lfm.loc[:, 'listens'].fillna(0, inplace=True)\n"
     ]
    }
   ],
   "source": [
    "i_features_lfm = i_features_filtered.copy()\n",
    "i_features_lfm.set_index('item_id', inplace=True)\n",
    "i_features_lfm['listens'] = filtered_df.groupby('item_id')['user_id'].count()\n",
    "i_features_lfm.loc[:, 'listens'].fillna(0, inplace=True)\n",
    "i_features_lfm.loc[:, 'genre_ids'] = i_features_lfm['genre_ids'].str.lower().str.split(',').apply(lambda x: x if isinstance(x, list) else [])\n",
    "i_features_lfm.loc[:, 'genre_ids'] = i_features_lfm.loc[:, 'genre_ids'].apply(lambda g_list: [genre.strip() for genre in g_list])"
   ]
  },
  {
   "cell_type": "code",
   "execution_count": 107,
   "id": "0930b7f0",
   "metadata": {
    "execution": {
     "iopub.execute_input": "2024-04-02T13:32:48.684229Z",
     "iopub.status.busy": "2024-04-02T13:32:48.683694Z",
     "iopub.status.idle": "2024-04-02T13:32:48.710672Z",
     "shell.execute_reply": "2024-04-02T13:32:48.709415Z",
     "shell.execute_reply.started": "2024-04-02T13:32:48.684158Z"
    }
   },
   "outputs": [
    {
     "data": {
      "text/html": [
       "<div>\n",
       "<style scoped>\n",
       "    .dataframe tbody tr th:only-of-type {\n",
       "        vertical-align: middle;\n",
       "    }\n",
       "\n",
       "    .dataframe tbody tr th {\n",
       "        vertical-align: top;\n",
       "    }\n",
       "\n",
       "    .dataframe thead th {\n",
       "        text-align: right;\n",
       "    }\n",
       "</style>\n",
       "<table border=\"1\" class=\"dataframe\">\n",
       "  <thead>\n",
       "    <tr style=\"text-align: right;\">\n",
       "      <th></th>\n",
       "      <th>song_length</th>\n",
       "      <th>genre_ids</th>\n",
       "      <th>artist_name</th>\n",
       "      <th>composer</th>\n",
       "      <th>lyricist</th>\n",
       "      <th>language</th>\n",
       "      <th>name</th>\n",
       "      <th>isrc</th>\n",
       "      <th>listens</th>\n",
       "    </tr>\n",
       "    <tr>\n",
       "      <th>item_id</th>\n",
       "      <th></th>\n",
       "      <th></th>\n",
       "      <th></th>\n",
       "      <th></th>\n",
       "      <th></th>\n",
       "      <th></th>\n",
       "      <th></th>\n",
       "      <th></th>\n",
       "      <th></th>\n",
       "    </tr>\n",
       "  </thead>\n",
       "  <tbody>\n",
       "    <tr>\n",
       "      <th>86884</th>\n",
       "      <td>206471.0</td>\n",
       "      <td>[359]</td>\n",
       "      <td>Bastille</td>\n",
       "      <td>Dan Smith| Mark Crew</td>\n",
       "      <td>NaN</td>\n",
       "      <td>52.0</td>\n",
       "      <td>Good Grief</td>\n",
       "      <td>GBUM71602854</td>\n",
       "      <td>215</td>\n",
       "    </tr>\n",
       "    <tr>\n",
       "      <th>140755</th>\n",
       "      <td>225396.0</td>\n",
       "      <td>[1259]</td>\n",
       "      <td>Nas</td>\n",
       "      <td>N. Jones、W. Adams、J. Lordan、D. Ingle</td>\n",
       "      <td>NaN</td>\n",
       "      <td>52.0</td>\n",
       "      <td>Hip Hop Is Dead(Album Version (Edited))</td>\n",
       "      <td>USUM70618761</td>\n",
       "      <td>4</td>\n",
       "    </tr>\n",
       "    <tr>\n",
       "      <th>38706</th>\n",
       "      <td>187802.0</td>\n",
       "      <td>[1011]</td>\n",
       "      <td>Brett Young</td>\n",
       "      <td>Brett Young| Kelly Archer| Justin Ebach</td>\n",
       "      <td>NaN</td>\n",
       "      <td>52.0</td>\n",
       "      <td>Sleep Without You</td>\n",
       "      <td>QM3E21606003</td>\n",
       "      <td>412</td>\n",
       "    </tr>\n",
       "    <tr>\n",
       "      <th>35087</th>\n",
       "      <td>247803.0</td>\n",
       "      <td>[1259]</td>\n",
       "      <td>Desiigner</td>\n",
       "      <td>Sidney Selby| Adnan Khan</td>\n",
       "      <td>NaN</td>\n",
       "      <td>52.0</td>\n",
       "      <td>Panda</td>\n",
       "      <td>USUM71601094</td>\n",
       "      <td>1108</td>\n",
       "    </tr>\n",
       "    <tr>\n",
       "      <th>221459</th>\n",
       "      <td>229982.0</td>\n",
       "      <td>[465]</td>\n",
       "      <td>BIGBANG TAEYANG</td>\n",
       "      <td>TEDDY| DEE.P| Rebecca Johnson</td>\n",
       "      <td>TEDDY| TAEYANG</td>\n",
       "      <td>31.0</td>\n",
       "      <td>眼| 鼻| 口 (Eyes| Nose| Lips)</td>\n",
       "      <td>TWA531400512</td>\n",
       "      <td>3869</td>\n",
       "    </tr>\n",
       "    <tr>\n",
       "      <th>...</th>\n",
       "      <td>...</td>\n",
       "      <td>...</td>\n",
       "      <td>...</td>\n",
       "      <td>...</td>\n",
       "      <td>...</td>\n",
       "      <td>...</td>\n",
       "      <td>...</td>\n",
       "      <td>...</td>\n",
       "      <td>...</td>\n",
       "    </tr>\n",
       "    <tr>\n",
       "      <th>142702</th>\n",
       "      <td>203778.0</td>\n",
       "      <td>[359]</td>\n",
       "      <td>Imagine Dragons</td>\n",
       "      <td>Dan Reynolds| Wayne Sermon| Ben McKee| Daniel ...</td>\n",
       "      <td>NaN</td>\n",
       "      <td>52.0</td>\n",
       "      <td>Believer</td>\n",
       "      <td>USUM71700626</td>\n",
       "      <td>7</td>\n",
       "    </tr>\n",
       "    <tr>\n",
       "      <th>219193</th>\n",
       "      <td>339069.0</td>\n",
       "      <td>[465]</td>\n",
       "      <td>証聲音樂圖書館 ECHO MUSIC</td>\n",
       "      <td>Jeremy Mage</td>\n",
       "      <td>NaN</td>\n",
       "      <td>52.0</td>\n",
       "      <td>YACHT ROCK</td>\n",
       "      <td>NaN</td>\n",
       "      <td>2</td>\n",
       "    </tr>\n",
       "    <tr>\n",
       "      <th>72891</th>\n",
       "      <td>213133.0</td>\n",
       "      <td>[1259]</td>\n",
       "      <td>Missy Elliott</td>\n",
       "      <td>NaN</td>\n",
       "      <td>NaN</td>\n",
       "      <td>52.0</td>\n",
       "      <td>I'm Better (feat. Lamb)</td>\n",
       "      <td>USEE11700002</td>\n",
       "      <td>2</td>\n",
       "    </tr>\n",
       "    <tr>\n",
       "      <th>303014</th>\n",
       "      <td>364739.0</td>\n",
       "      <td>[381|2086|374]</td>\n",
       "      <td>Various Artists</td>\n",
       "      <td>Sura Q</td>\n",
       "      <td>NaN</td>\n",
       "      <td>52.0</td>\n",
       "      <td>Entirely Retrospective</td>\n",
       "      <td>DEKU31500104</td>\n",
       "      <td>2</td>\n",
       "    </tr>\n",
       "    <tr>\n",
       "      <th>285954</th>\n",
       "      <td>242102.0</td>\n",
       "      <td>[444]</td>\n",
       "      <td>The Hans</td>\n",
       "      <td>Bae Seong Kwang</td>\n",
       "      <td>Bae Seong Kwang</td>\n",
       "      <td>31.0</td>\n",
       "      <td>납작코 Flat Nose</td>\n",
       "      <td>UK6821401323</td>\n",
       "      <td>2</td>\n",
       "    </tr>\n",
       "  </tbody>\n",
       "</table>\n",
       "<p>193199 rows × 9 columns</p>\n",
       "</div>"
      ],
      "text/plain": [
       "         song_length       genre_ids         artist_name  \\\n",
       "item_id                                                    \n",
       "86884       206471.0           [359]            Bastille   \n",
       "140755      225396.0          [1259]                 Nas   \n",
       "38706       187802.0          [1011]         Brett Young   \n",
       "35087       247803.0          [1259]           Desiigner   \n",
       "221459      229982.0           [465]     BIGBANG TAEYANG   \n",
       "...              ...             ...                 ...   \n",
       "142702      203778.0           [359]     Imagine Dragons   \n",
       "219193      339069.0           [465]  証聲音樂圖書館 ECHO MUSIC   \n",
       "72891       213133.0          [1259]       Missy Elliott   \n",
       "303014      364739.0  [381|2086|374]     Various Artists   \n",
       "285954      242102.0           [444]            The Hans   \n",
       "\n",
       "                                                  composer         lyricist  \\\n",
       "item_id                                                                       \n",
       "86884                                 Dan Smith| Mark Crew              NaN   \n",
       "140755                N. Jones、W. Adams、J. Lordan、D. Ingle              NaN   \n",
       "38706              Brett Young| Kelly Archer| Justin Ebach              NaN   \n",
       "35087                             Sidney Selby| Adnan Khan              NaN   \n",
       "221459                       TEDDY| DEE.P| Rebecca Johnson   TEDDY| TAEYANG   \n",
       "...                                                    ...              ...   \n",
       "142702   Dan Reynolds| Wayne Sermon| Ben McKee| Daniel ...              NaN   \n",
       "219193                                         Jeremy Mage              NaN   \n",
       "72891                                                  NaN              NaN   \n",
       "303014                                              Sura Q              NaN   \n",
       "285954                                     Bae Seong Kwang  Bae Seong Kwang   \n",
       "\n",
       "         language                                     name          isrc  \\\n",
       "item_id                                                                    \n",
       "86884        52.0                               Good Grief  GBUM71602854   \n",
       "140755       52.0  Hip Hop Is Dead(Album Version (Edited))  USUM70618761   \n",
       "38706        52.0                        Sleep Without You  QM3E21606003   \n",
       "35087        52.0                                    Panda  USUM71601094   \n",
       "221459       31.0               眼| 鼻| 口 (Eyes| Nose| Lips)  TWA531400512   \n",
       "...           ...                                      ...           ...   \n",
       "142702       52.0                                 Believer  USUM71700626   \n",
       "219193       52.0                               YACHT ROCK           NaN   \n",
       "72891        52.0                  I'm Better (feat. Lamb)  USEE11700002   \n",
       "303014       52.0                   Entirely Retrospective  DEKU31500104   \n",
       "285954       31.0                            납작코 Flat Nose  UK6821401323   \n",
       "\n",
       "         listens  \n",
       "item_id           \n",
       "86884        215  \n",
       "140755         4  \n",
       "38706        412  \n",
       "35087       1108  \n",
       "221459      3869  \n",
       "...          ...  \n",
       "142702         7  \n",
       "219193         2  \n",
       "72891          2  \n",
       "303014         2  \n",
       "285954         2  \n",
       "\n",
       "[193199 rows x 9 columns]"
      ]
     },
     "execution_count": 107,
     "metadata": {},
     "output_type": "execute_result"
    }
   ],
   "source": [
    "i_features_lfm"
   ]
  },
  {
   "cell_type": "code",
   "execution_count": 108,
   "id": "a2bb5298",
   "metadata": {
    "execution": {
     "iopub.execute_input": "2024-04-02T13:32:48.712727Z",
     "iopub.status.busy": "2024-04-02T13:32:48.712228Z",
     "iopub.status.idle": "2024-04-02T13:32:48.720853Z",
     "shell.execute_reply": "2024-04-02T13:32:48.719574Z",
     "shell.execute_reply.started": "2024-04-02T13:32:48.712684Z"
    },
    "id": "7asqlTQ9rosS"
   },
   "outputs": [],
   "source": [
    "TEST_SONG = 86884"
   ]
  },
  {
   "cell_type": "code",
   "execution_count": 109,
   "id": "9e60da35",
   "metadata": {
    "execution": {
     "iopub.execute_input": "2024-04-02T13:32:48.722569Z",
     "iopub.status.busy": "2024-04-02T13:32:48.722158Z",
     "iopub.status.idle": "2024-04-02T13:32:48.745473Z",
     "shell.execute_reply": "2024-04-02T13:32:48.744437Z",
     "shell.execute_reply.started": "2024-04-02T13:32:48.722537Z"
    },
    "id": "TebP50N6q8XC"
   },
   "outputs": [
    {
     "data": {
      "text/plain": [
       "song_length                206471.0\n",
       "genre_ids                     [359]\n",
       "artist_name                Bastille\n",
       "composer       Dan Smith| Mark Crew\n",
       "lyricist                        NaN\n",
       "language                       52.0\n",
       "name                     Good Grief\n",
       "isrc                   GBUM71602854\n",
       "listens                         215\n",
       "Name: 86884, dtype: object"
      ]
     },
     "execution_count": 109,
     "metadata": {},
     "output_type": "execute_result"
    }
   ],
   "source": [
    "i_features_lfm.loc[TEST_SONG]"
   ]
  },
  {
   "cell_type": "code",
   "execution_count": 110,
   "id": "349a99f6",
   "metadata": {
    "execution": {
     "iopub.execute_input": "2024-04-02T13:32:48.747310Z",
     "iopub.status.busy": "2024-04-02T13:32:48.746939Z",
     "iopub.status.idle": "2024-04-02T13:32:48.896972Z",
     "shell.execute_reply": "2024-04-02T13:32:48.895754Z",
     "shell.execute_reply.started": "2024-04-02T13:32:48.747281Z"
    },
    "id": "gaNY7A1Ir66E"
   },
   "outputs": [
    {
     "data": {
      "text/plain": [
       "genre_ids\n",
       "465                           3666670\n",
       "458                           1258877\n",
       "921                            344097\n",
       "1609                           302270\n",
       "444                            241914\n",
       "                               ...   \n",
       "1266                                2\n",
       "873|958                             2\n",
       "1152|947|2086|374|2122|958          2\n",
       "921|139                             2\n",
       "1000                                2\n",
       "Name: listens, Length: 442, dtype: int64"
      ]
     },
     "execution_count": 110,
     "metadata": {},
     "output_type": "execute_result"
    }
   ],
   "source": [
    "genres_count = i_features_lfm[['genre_ids', 'listens']].explode('genre_ids').groupby('genre_ids')['listens'].sum()\n",
    "genres_count.sort_values(ascending=False)"
   ]
  },
  {
   "cell_type": "code",
   "execution_count": 111,
   "id": "b36bd44b",
   "metadata": {
    "execution": {
     "iopub.execute_input": "2024-04-02T13:32:48.899756Z",
     "iopub.status.busy": "2024-04-02T13:32:48.898532Z",
     "iopub.status.idle": "2024-04-02T13:32:49.196791Z",
     "shell.execute_reply": "2024-04-02T13:32:49.195538Z",
     "shell.execute_reply.started": "2024-04-02T13:32:48.899713Z"
    },
    "id": "52K9ILggsS1K"
   },
   "outputs": [
    {
     "data": {
      "image/png": "[encoded data removed]",
      "text/plain": [
       "<Figure size 640x480 with 1 Axes>"
      ]
     },
     "metadata": {},
     "output_type": "display_data"
    }
   ],
   "source": [
    "genres_count.sort_values(ascending=False).reset_index(drop=True).plot();"
   ]
  },
  {
   "cell_type": "code",
   "execution_count": 112,
   "id": "60c79c85",
   "metadata": {
    "execution": {
     "iopub.execute_input": "2024-04-02T13:32:49.199379Z",
     "iopub.status.busy": "2024-04-02T13:32:49.198568Z",
     "iopub.status.idle": "2024-04-02T13:32:49.208688Z",
     "shell.execute_reply": "2024-04-02T13:32:49.207473Z",
     "shell.execute_reply.started": "2024-04-02T13:32:49.199336Z"
    },
    "id": "_NTK-dGTsd5U"
   },
   "outputs": [
    {
     "data": {
      "text/plain": [
       "Index(['465', '458', '921', '1609', '444', '1259', '2022', '359', '2122',\n",
       "       '139'],\n",
       "      dtype='object', name='genre_ids')"
      ]
     },
     "execution_count": 112,
     "metadata": {},
     "output_type": "execute_result"
    }
   ],
   "source": [
    "unique_item_tags = genres_count.sort_values(ascending=False)[:20].index\n",
    "unique_item_tags[:10]"
   ]
  },
  {
   "cell_type": "code",
   "execution_count": 113,
   "id": "ee7e5907",
   "metadata": {
    "execution": {
     "iopub.execute_input": "2024-04-02T13:32:49.211265Z",
     "iopub.status.busy": "2024-04-02T13:32:49.210775Z",
     "iopub.status.idle": "2024-04-02T13:32:49.218757Z",
     "shell.execute_reply": "2024-04-02T13:32:49.217246Z",
     "shell.execute_reply.started": "2024-04-02T13:32:49.211223Z"
    },
    "id": "XClKxlBmsm3O"
   },
   "outputs": [],
   "source": [
    "def filter_genres(genres_list, valid_genres=None):\n",
    "    if not genres_list:\n",
    "        return []\n",
    "    return [genre for genre in genres_list if genre in valid_genres]"
   ]
  },
  {
   "cell_type": "code",
   "execution_count": 114,
   "id": "91141fa3",
   "metadata": {
    "execution": {
     "iopub.execute_input": "2024-04-02T13:32:49.221152Z",
     "iopub.status.busy": "2024-04-02T13:32:49.220676Z",
     "iopub.status.idle": "2024-04-02T13:32:49.884341Z",
     "shell.execute_reply": "2024-04-02T13:32:49.883006Z",
     "shell.execute_reply.started": "2024-04-02T13:32:49.221111Z"
    },
    "id": "ahCm88v1soG2"
   },
   "outputs": [
    {
     "name": "stdout",
     "output_type": "stream",
     "text": [
      "CPU times: user 652 ms, sys: 1.95 ms, total: 654 ms\n",
      "Wall time: 652 ms\n"
     ]
    }
   ],
   "source": [
    "%%time\n",
    "i_features_lfm['features'] = i_features_lfm['genre_ids'].apply(filter_genres, valid_genres=set(unique_item_tags))"
   ]
  },
  {
   "cell_type": "code",
   "execution_count": 115,
   "id": "e6bcc088",
   "metadata": {
    "execution": {
     "iopub.execute_input": "2024-04-02T13:32:49.886420Z",
     "iopub.status.busy": "2024-04-02T13:32:49.886007Z",
     "iopub.status.idle": "2024-04-02T13:32:49.895935Z",
     "shell.execute_reply": "2024-04-02T13:32:49.894379Z",
     "shell.execute_reply.started": "2024-04-02T13:32:49.886385Z"
    },
    "id": "kVLoaLFkssfi"
   },
   "outputs": [
    {
     "data": {
      "text/plain": [
       "['359']"
      ]
     },
     "execution_count": 115,
     "metadata": {},
     "output_type": "execute_result"
    }
   ],
   "source": [
    "i_features_list = i_features_lfm['features']\n",
    "i_features_list.loc[TEST_SONG]"
   ]
  },
  {
   "cell_type": "code",
   "execution_count": 116,
   "id": "510a5ad7",
   "metadata": {
    "execution": {
     "iopub.execute_input": "2024-04-02T13:32:49.898361Z",
     "iopub.status.busy": "2024-04-02T13:32:49.897862Z",
     "iopub.status.idle": "2024-04-02T13:32:49.905213Z",
     "shell.execute_reply": "2024-04-02T13:32:49.904283Z",
     "shell.execute_reply.started": "2024-04-02T13:32:49.898326Z"
    },
    "id": "GSVizdETs651"
   },
   "outputs": [],
   "source": [
    "lfm_dataset = LFMDataset()"
   ]
  },
  {
   "cell_type": "code",
   "execution_count": 117,
   "id": "6328b852",
   "metadata": {
    "execution": {
     "iopub.execute_input": "2024-04-02T13:32:49.907024Z",
     "iopub.status.busy": "2024-04-02T13:32:49.906686Z",
     "iopub.status.idle": "2024-04-02T13:32:50.299930Z",
     "shell.execute_reply": "2024-04-02T13:32:50.298654Z",
     "shell.execute_reply.started": "2024-04-02T13:32:49.906998Z"
    },
    "id": "dM_aXT6ys7UT"
   },
   "outputs": [],
   "source": [
    "lfm_dataset.fit_partial(users=filtered_df['user_id'].unique(), items=filtered_df['item_id'].unique())\n",
    "lfm_dataset.fit_partial(user_features=unique_user_tags, item_features=unique_item_tags)"
   ]
  },
  {
   "cell_type": "code",
   "execution_count": 118,
   "id": "05fbdac8",
   "metadata": {
    "execution": {
     "iopub.execute_input": "2024-04-02T13:32:50.301973Z",
     "iopub.status.busy": "2024-04-02T13:32:50.301592Z",
     "iopub.status.idle": "2024-04-02T13:32:50.307701Z",
     "shell.execute_reply": "2024-04-02T13:32:50.306476Z",
     "shell.execute_reply.started": "2024-04-02T13:32:50.301941Z"
    },
    "id": "x3RNUvN3s9yn"
   },
   "outputs": [],
   "source": [
    "user_mapping, item_mapping = lfm_dataset.mapping()[0], lfm_dataset.mapping()[2]"
   ]
  },
  {
   "cell_type": "code",
   "execution_count": 119,
   "id": "4336a996",
   "metadata": {
    "execution": {
     "iopub.execute_input": "2024-04-02T13:32:50.310523Z",
     "iopub.status.busy": "2024-04-02T13:32:50.309734Z",
     "iopub.status.idle": "2024-04-02T13:32:50.351403Z",
     "shell.execute_reply": "2024-04-02T13:32:50.350215Z",
     "shell.execute_reply.started": "2024-04-02T13:32:50.310481Z"
    },
    "id": "9KzncxVdtAnJ"
   },
   "outputs": [],
   "source": [
    "inv_user_mapping = {value: key for key, value in user_mapping.items()}\n",
    "inv_item_mapping = {value: key for key, value in item_mapping.items()}"
   ]
  },
  {
   "cell_type": "code",
   "execution_count": 120,
   "id": "873d3307",
   "metadata": {
    "execution": {
     "iopub.execute_input": "2024-04-02T13:32:50.354073Z",
     "iopub.status.busy": "2024-04-02T13:32:50.353243Z",
     "iopub.status.idle": "2024-04-02T13:32:50.359164Z",
     "shell.execute_reply": "2024-04-02T13:32:50.358138Z",
     "shell.execute_reply.started": "2024-04-02T13:32:50.354026Z"
    },
    "id": "_wtLzr1jtEpu"
   },
   "outputs": [],
   "source": [
    "TEST_SONG_LFM = item_mapping[TEST_SONG]"
   ]
  },
  {
   "cell_type": "code",
   "execution_count": 121,
   "id": "d84b6859",
   "metadata": {
    "execution": {
     "iopub.execute_input": "2024-04-02T13:32:50.361122Z",
     "iopub.status.busy": "2024-04-02T13:32:50.360562Z",
     "iopub.status.idle": "2024-04-02T13:32:50.373870Z",
     "shell.execute_reply": "2024-04-02T13:32:50.372621Z",
     "shell.execute_reply.started": "2024-04-02T13:32:50.361091Z"
    },
    "id": "s_59UCUStKJi"
   },
   "outputs": [
    {
     "data": {
      "text/plain": [
       "(29784, 193199)"
      ]
     },
     "execution_count": 121,
     "metadata": {},
     "output_type": "execute_result"
    }
   ],
   "source": [
    "lfm_dataset.interactions_shape()"
   ]
  },
  {
   "cell_type": "code",
   "execution_count": 122,
   "id": "5bd70cbd",
   "metadata": {
    "execution": {
     "iopub.execute_input": "2024-04-02T13:32:50.376375Z",
     "iopub.status.busy": "2024-04-02T13:32:50.375565Z",
     "iopub.status.idle": "2024-04-02T13:32:52.614098Z",
     "shell.execute_reply": "2024-04-02T13:32:52.612752Z",
     "shell.execute_reply.started": "2024-04-02T13:32:50.376341Z"
    },
    "id": "o71YsfyLtOh2"
   },
   "outputs": [],
   "source": [
    "sparse_i_features = lfm_dataset.build_item_features([[row.item_id, row.features] for row in i_features_list.reset_index().itertuples()])\n",
    "sparse_u_features = lfm_dataset.build_user_features([[row.user_id, row.features] for row in u_features_list.reset_index().itertuples()])"
   ]
  },
  {
   "cell_type": "code",
   "execution_count": 123,
   "id": "c453644d",
   "metadata": {
    "execution": {
     "iopub.execute_input": "2024-04-02T13:32:52.616401Z",
     "iopub.status.busy": "2024-04-02T13:32:52.615873Z",
     "iopub.status.idle": "2024-04-02T13:32:52.624933Z",
     "shell.execute_reply": "2024-04-02T13:32:52.622802Z",
     "shell.execute_reply.started": "2024-04-02T13:32:52.616367Z"
    },
    "id": "gekFAz04tS79"
   },
   "outputs": [
    {
     "data": {
      "text/plain": [
       "(193199, 193219)"
      ]
     },
     "execution_count": 123,
     "metadata": {},
     "output_type": "execute_result"
    }
   ],
   "source": [
    "sparse_i_features.shape"
   ]
  },
  {
   "cell_type": "code",
   "execution_count": 124,
   "id": "010b9287",
   "metadata": {
    "execution": {
     "iopub.execute_input": "2024-04-02T13:32:52.627833Z",
     "iopub.status.busy": "2024-04-02T13:32:52.626963Z",
     "iopub.status.idle": "2024-04-02T13:32:52.639205Z",
     "shell.execute_reply": "2024-04-02T13:32:52.637716Z",
     "shell.execute_reply.started": "2024-04-02T13:32:52.627785Z"
    },
    "id": "niD8G0Q3tWwy"
   },
   "outputs": [
    {
     "data": {
      "text/plain": [
       "<1x193219 sparse matrix of type '<class 'numpy.float32'>'\n",
       "\twith 2 stored elements in Compressed Sparse Row format>"
      ]
     },
     "execution_count": 124,
     "metadata": {},
     "output_type": "execute_result"
    }
   ],
   "source": [
    "sparse_i_features[1]"
   ]
  },
  {
   "cell_type": "code",
   "execution_count": 125,
   "id": "0271335b",
   "metadata": {
    "execution": {
     "iopub.execute_input": "2024-04-02T13:32:52.641740Z",
     "iopub.status.busy": "2024-04-02T13:32:52.641271Z",
     "iopub.status.idle": "2024-04-02T13:32:52.651262Z",
     "shell.execute_reply": "2024-04-02T13:32:52.649833Z",
     "shell.execute_reply.started": "2024-04-02T13:32:52.641702Z"
    },
    "id": "TnUMeKfYtbLR"
   },
   "outputs": [
    {
     "data": {
      "text/plain": [
       "['359']"
      ]
     },
     "execution_count": 125,
     "metadata": {},
     "output_type": "execute_result"
    }
   ],
   "source": [
    "i_features_list[TEST_SONG]"
   ]
  },
  {
   "cell_type": "code",
   "execution_count": 126,
   "id": "cc060fde",
   "metadata": {
    "execution": {
     "iopub.execute_input": "2024-04-02T13:32:52.654097Z",
     "iopub.status.busy": "2024-04-02T13:32:52.653267Z",
     "iopub.status.idle": "2024-04-02T13:32:52.665915Z",
     "shell.execute_reply": "2024-04-02T13:32:52.664377Z",
     "shell.execute_reply.started": "2024-04-02T13:32:52.654054Z"
    },
    "id": "LHjorbvStfih"
   },
   "outputs": [
    {
     "data": {
      "text/plain": [
       "((array([0, 0], dtype=int32), array([     0, 193206], dtype=int32)),\n",
       " array([0.5, 0.5], dtype=float32))"
      ]
     },
     "execution_count": 126,
     "metadata": {},
     "output_type": "execute_result"
    }
   ],
   "source": [
    "sparse_i_features[TEST_SONG_LFM, :].nonzero(), sparse_i_features[TEST_SONG_LFM, :].data"
   ]
  },
  {
   "cell_type": "code",
   "execution_count": 127,
   "id": "aaa97b4b",
   "metadata": {
    "execution": {
     "iopub.execute_input": "2024-04-02T13:32:52.669055Z",
     "iopub.status.busy": "2024-04-02T13:32:52.668201Z",
     "iopub.status.idle": "2024-04-02T13:33:30.009252Z",
     "shell.execute_reply": "2024-04-02T13:33:30.007962Z",
     "shell.execute_reply.started": "2024-04-02T13:32:52.669010Z"
    },
    "id": "w6EvacHutmxT"
   },
   "outputs": [
    {
     "name": "stdout",
     "output_type": "stream",
     "text": [
      "CPU times: user 36.7 s, sys: 583 ms, total: 37.3 s\n",
      "Wall time: 37.3 s\n"
     ]
    }
   ],
   "source": [
    "%%time\n",
    "(interactions, weights) = lfm_dataset.build_interactions([(row.user_id, row.item_id, row.target) for row in train_by_date.itertuples()])"
   ]
  },
  {
   "cell_type": "code",
   "execution_count": 128,
   "id": "362cb18f",
   "metadata": {
    "execution": {
     "iopub.execute_input": "2024-04-02T13:33:30.011837Z",
     "iopub.status.busy": "2024-04-02T13:33:30.011357Z",
     "iopub.status.idle": "2024-04-02T13:33:30.020322Z",
     "shell.execute_reply": "2024-04-02T13:33:30.019107Z",
     "shell.execute_reply.started": "2024-04-02T13:33:30.011793Z"
    },
    "id": "P419X611uJDw"
   },
   "outputs": [
    {
     "data": {
      "text/plain": [
       "((29784, 193199), array([1, 1, 1, ..., 1, 1, 1], dtype=int32))"
      ]
     },
     "execution_count": 128,
     "metadata": {},
     "output_type": "execute_result"
    }
   ],
   "source": [
    "interactions.shape, interactions.data"
   ]
  },
  {
   "cell_type": "code",
   "execution_count": 129,
   "id": "07e08f23",
   "metadata": {
    "execution": {
     "iopub.execute_input": "2024-04-02T13:33:30.022113Z",
     "iopub.status.busy": "2024-04-02T13:33:30.021743Z",
     "iopub.status.idle": "2024-04-02T13:33:30.031068Z",
     "shell.execute_reply": "2024-04-02T13:33:30.030082Z",
     "shell.execute_reply.started": "2024-04-02T13:33:30.022083Z"
    },
    "id": "8lEg4-xPuZdU"
   },
   "outputs": [],
   "source": [
    "SEED=42"
   ]
  },
  {
   "cell_type": "code",
   "execution_count": 130,
   "id": "e9b00af3",
   "metadata": {
    "execution": {
     "iopub.execute_input": "2024-04-02T13:33:30.032928Z",
     "iopub.status.busy": "2024-04-02T13:33:30.032553Z",
     "iopub.status.idle": "2024-04-02T14:05:48.197793Z",
     "shell.execute_reply": "2024-04-02T14:05:48.196368Z",
     "shell.execute_reply.started": "2024-04-02T13:33:30.032887Z"
    },
    "id": "iGCRuag6uQpO"
   },
   "outputs": [
    {
     "name": "stdout",
     "output_type": "stream",
     "text": [
      "CPU times: user 2h 1min 56s, sys: 3.93 s, total: 2h 2min\n",
      "Wall time: 32min 18s\n"
     ]
    },
    {
     "data": {
      "text/plain": [
       "<lightfm.lightfm.LightFM at 0x7d297ccb32e0>"
      ]
     },
     "execution_count": 130,
     "metadata": {},
     "output_type": "execute_result"
    }
   ],
   "source": [
    "%%time\n",
    "lightfm = LightFM(no_components=64, loss='warp', random_state=SEED, user_alpha=1e-5, item_alpha=1e-5)\n",
    "lightfm.fit(interactions, user_features=sparse_u_features, item_features=sparse_i_features, epochs=100, num_threads=8)"
   ]
  },
  {
   "cell_type": "code",
   "execution_count": 131,
   "id": "a5bd0946",
   "metadata": {
    "execution": {
     "iopub.execute_input": "2024-04-02T14:05:48.200277Z",
     "iopub.status.busy": "2024-04-02T14:05:48.199351Z",
     "iopub.status.idle": "2024-04-02T14:05:48.347566Z",
     "shell.execute_reply": "2024-04-02T14:05:48.346428Z",
     "shell.execute_reply.started": "2024-04-02T14:05:48.200243Z"
    },
    "id": "wPaNqZhduWF1"
   },
   "outputs": [],
   "source": [
    "pred = lightfm.predict(user_ids=user_mapping[TEST_USER], item_ids=sorted(item_mapping.values()), user_features=sparse_u_features, item_features=sparse_i_features)"
   ]
  },
  {
   "cell_type": "code",
   "execution_count": 132,
   "id": "05990471",
   "metadata": {
    "execution": {
     "iopub.execute_input": "2024-04-02T14:05:48.349587Z",
     "iopub.status.busy": "2024-04-02T14:05:48.349205Z",
     "iopub.status.idle": "2024-04-02T14:05:49.330891Z",
     "shell.execute_reply": "2024-04-02T14:05:49.329567Z",
     "shell.execute_reply.started": "2024-04-02T14:05:48.349555Z"
    },
    "id": "4VvqVCiiufjG"
   },
   "outputs": [],
   "source": [
    "ids = np.argpartition(pred, -K)[-K:]\n",
    "rel = pred[ids]\n",
    "res = pd.DataFrame(zip(ids, rel), columns=['item_id', 'relevance'])\n",
    "res['item_id'] = res['item_id'].map(inv_item_mapping)"
   ]
  },
  {
   "cell_type": "code",
   "execution_count": 136,
   "id": "4e3b6046",
   "metadata": {
    "execution": {
     "iopub.execute_input": "2024-04-02T14:14:35.553970Z",
     "iopub.status.busy": "2024-04-02T14:14:35.553530Z",
     "iopub.status.idle": "2024-04-02T14:14:35.906107Z",
     "shell.execute_reply": "2024-04-02T14:14:35.904997Z",
     "shell.execute_reply.started": "2024-04-02T14:14:35.553938Z"
    }
   },
   "outputs": [],
   "source": [
    "popularity = train_by_date.groupby('item_id')['user_id'].count().rename('popularity').sort_values(ascending=False)\n",
    "items_with_pop = i_features_filtered.merge(popularity, right_index=True, left_on=\"item_id\")"
   ]
  },
  {
   "cell_type": "code",
   "execution_count": 137,
   "id": "b365a32f",
   "metadata": {
    "execution": {
     "iopub.execute_input": "2024-04-02T14:14:36.613558Z",
     "iopub.status.busy": "2024-04-02T14:14:36.613118Z",
     "iopub.status.idle": "2024-04-02T14:14:36.706988Z",
     "shell.execute_reply": "2024-04-02T14:14:36.705520Z",
     "shell.execute_reply.started": "2024-04-02T14:14:36.613527Z"
    },
    "id": "G6ASppgwuiIy"
   },
   "outputs": [
    {
     "data": {
      "text/html": [
       "<div>\n",
       "<style scoped>\n",
       "    .dataframe tbody tr th:only-of-type {\n",
       "        vertical-align: middle;\n",
       "    }\n",
       "\n",
       "    .dataframe tbody tr th {\n",
       "        vertical-align: top;\n",
       "    }\n",
       "\n",
       "    .dataframe thead th {\n",
       "        text-align: right;\n",
       "    }\n",
       "</style>\n",
       "<table border=\"1\" class=\"dataframe\">\n",
       "  <thead>\n",
       "    <tr style=\"text-align: right;\">\n",
       "      <th></th>\n",
       "      <th>item_id</th>\n",
       "      <th>relevance</th>\n",
       "      <th>song_length</th>\n",
       "      <th>genre_ids</th>\n",
       "      <th>artist_name</th>\n",
       "      <th>composer</th>\n",
       "      <th>lyricist</th>\n",
       "      <th>language</th>\n",
       "      <th>name</th>\n",
       "      <th>isrc</th>\n",
       "      <th>popularity</th>\n",
       "    </tr>\n",
       "  </thead>\n",
       "  <tbody>\n",
       "    <tr>\n",
       "      <th>16</th>\n",
       "      <td>238767</td>\n",
       "      <td>-131.540619</td>\n",
       "      <td>185295.0</td>\n",
       "      <td>451</td>\n",
       "      <td>陳奕迅 (Eason Chan)</td>\n",
       "      <td>Tang Han Xiao</td>\n",
       "      <td>Tang Han Xiao</td>\n",
       "      <td>3.0</td>\n",
       "      <td>讓我留在你身邊</td>\n",
       "      <td>HKJ631603001</td>\n",
       "      <td>10526</td>\n",
       "    </tr>\n",
       "    <tr>\n",
       "      <th>18</th>\n",
       "      <td>365248</td>\n",
       "      <td>-131.575272</td>\n",
       "      <td>219324.0</td>\n",
       "      <td>458</td>\n",
       "      <td>周湯豪 (NICKTHEREAL)</td>\n",
       "      <td>周湯豪</td>\n",
       "      <td>周湯豪\\崔惟楷</td>\n",
       "      <td>3.0</td>\n",
       "      <td>帥到分手</td>\n",
       "      <td>TWAG11600306</td>\n",
       "      <td>12436</td>\n",
       "    </tr>\n",
       "    <tr>\n",
       "      <th>19</th>\n",
       "      <td>387355</td>\n",
       "      <td>-131.742783</td>\n",
       "      <td>161175.0</td>\n",
       "      <td>1616|1609</td>\n",
       "      <td>Alan Walker</td>\n",
       "      <td>Alan Walker| Jesper Borgen| Anders Froen| Gunn...</td>\n",
       "      <td>Alan Walker| Jesper Borgen| Anders Froen| Gunn...</td>\n",
       "      <td>52.0</td>\n",
       "      <td>Alone</td>\n",
       "      <td>NOG841617010</td>\n",
       "      <td>8901</td>\n",
       "    </tr>\n",
       "    <tr>\n",
       "      <th>14</th>\n",
       "      <td>138868</td>\n",
       "      <td>-131.859497</td>\n",
       "      <td>212750.0</td>\n",
       "      <td>1616|1609</td>\n",
       "      <td>Alan Walker</td>\n",
       "      <td>Alan Walker| Jesper Borgen| Anders Froen| Gunn...</td>\n",
       "      <td>Alan Walker| Jesper Borgen| Anders Froen| Gunn...</td>\n",
       "      <td>52.0</td>\n",
       "      <td>Faded</td>\n",
       "      <td>NOG841549010</td>\n",
       "      <td>9314</td>\n",
       "    </tr>\n",
       "    <tr>\n",
       "      <th>17</th>\n",
       "      <td>204493</td>\n",
       "      <td>-131.890335</td>\n",
       "      <td>215144.0</td>\n",
       "      <td>458</td>\n",
       "      <td>周杰倫 (Jay Chou)</td>\n",
       "      <td>周杰倫</td>\n",
       "      <td>方文山</td>\n",
       "      <td>3.0</td>\n",
       "      <td>告白氣球</td>\n",
       "      <td>TWK971601308</td>\n",
       "      <td>11852</td>\n",
       "    </tr>\n",
       "    <tr>\n",
       "      <th>15</th>\n",
       "      <td>118074</td>\n",
       "      <td>-131.901779</td>\n",
       "      <td>287328.0</td>\n",
       "      <td>458</td>\n",
       "      <td>Eric 周興哲</td>\n",
       "      <td>Eric Chou</td>\n",
       "      <td>Eric Chou| Yi-Wei Wu</td>\n",
       "      <td>3.0</td>\n",
       "      <td>你，好不好？ (How Have You Been?)</td>\n",
       "      <td>TWA471602002</td>\n",
       "      <td>11526</td>\n",
       "    </tr>\n",
       "    <tr>\n",
       "      <th>13</th>\n",
       "      <td>181909</td>\n",
       "      <td>-131.963562</td>\n",
       "      <td>227343.0</td>\n",
       "      <td>465</td>\n",
       "      <td>謝和弦 (R-chord)</td>\n",
       "      <td>R-chord</td>\n",
       "      <td>R-chord</td>\n",
       "      <td>3.0</td>\n",
       "      <td>謝謝妳愛我 (Thanks For Your Love)</td>\n",
       "      <td>TWA531657203</td>\n",
       "      <td>10811</td>\n",
       "    </tr>\n",
       "    <tr>\n",
       "      <th>11</th>\n",
       "      <td>133878</td>\n",
       "      <td>-131.967712</td>\n",
       "      <td>244976.0</td>\n",
       "      <td>1609</td>\n",
       "      <td>The Chainsmokers</td>\n",
       "      <td>Andrew Taggart| Shaun Frank| Frederic Kennett|...</td>\n",
       "      <td>Andrew Taggart| Shaun Frank| Frederic Kennett|...</td>\n",
       "      <td>52.0</td>\n",
       "      <td>Closer</td>\n",
       "      <td>USQX91601347</td>\n",
       "      <td>8719</td>\n",
       "    </tr>\n",
       "    <tr>\n",
       "      <th>6</th>\n",
       "      <td>395262</td>\n",
       "      <td>-132.056549</td>\n",
       "      <td>265508.0</td>\n",
       "      <td>465</td>\n",
       "      <td>田馥甄 (Hebe)</td>\n",
       "      <td>JerryC</td>\n",
       "      <td>徐世珍/吳輝福</td>\n",
       "      <td>3.0</td>\n",
       "      <td>小幸運 (A little happiness)</td>\n",
       "      <td>TWD951562101</td>\n",
       "      <td>11408</td>\n",
       "    </tr>\n",
       "    <tr>\n",
       "      <th>8</th>\n",
       "      <td>40286</td>\n",
       "      <td>-132.076004</td>\n",
       "      <td>346272.0</td>\n",
       "      <td>458</td>\n",
       "      <td>五月天 (Mayday)</td>\n",
       "      <td>怪獸</td>\n",
       "      <td>阿信</td>\n",
       "      <td>3.0</td>\n",
       "      <td>後來的我們 (Here| After| Us)</td>\n",
       "      <td>TWK231610206</td>\n",
       "      <td>9910</td>\n",
       "    </tr>\n",
       "    <tr>\n",
       "      <th>12</th>\n",
       "      <td>211063</td>\n",
       "      <td>-132.098587</td>\n",
       "      <td>290063.0</td>\n",
       "      <td>458</td>\n",
       "      <td>周杰倫 (Jay Chou)</td>\n",
       "      <td>周杰倫</td>\n",
       "      <td>方文山</td>\n",
       "      <td>3.0</td>\n",
       "      <td>不該</td>\n",
       "      <td>TWK971601306</td>\n",
       "      <td>10311</td>\n",
       "    </tr>\n",
       "    <tr>\n",
       "      <th>10</th>\n",
       "      <td>2498</td>\n",
       "      <td>-132.146637</td>\n",
       "      <td>208492.0</td>\n",
       "      <td>1609</td>\n",
       "      <td>The Chainsmokers</td>\n",
       "      <td>Andrew Taggart| Emily Warren| Scott Harris</td>\n",
       "      <td>Andrew Taggart| Emily Warren| Scott Harris</td>\n",
       "      <td>52.0</td>\n",
       "      <td>Don't Let Me Down</td>\n",
       "      <td>USQX91600011</td>\n",
       "      <td>6720</td>\n",
       "    </tr>\n",
       "    <tr>\n",
       "      <th>5</th>\n",
       "      <td>59992</td>\n",
       "      <td>-132.148636</td>\n",
       "      <td>258298.0</td>\n",
       "      <td>465</td>\n",
       "      <td>兄弟本色G.U.T.S. (姚中仁、張震嶽、頑童MJ116)</td>\n",
       "      <td>姚中仁 MC HotDog 陳昱榕 Ｅ-SO 周文傑 KENZY 林睦淵</td>\n",
       "      <td>姚中仁 MC HotDog 陳昱榕 Ｅ-SO 周文傑 KENZY 林睦淵</td>\n",
       "      <td>3.0</td>\n",
       "      <td>FLY OUT</td>\n",
       "      <td>TWA451512031</td>\n",
       "      <td>9077</td>\n",
       "    </tr>\n",
       "    <tr>\n",
       "      <th>9</th>\n",
       "      <td>3221</td>\n",
       "      <td>-132.152527</td>\n",
       "      <td>283846.0</td>\n",
       "      <td>465</td>\n",
       "      <td>陳勢安 (Andrew Tan)</td>\n",
       "      <td>覃嘉健</td>\n",
       "      <td>馬嵩惟</td>\n",
       "      <td>3.0</td>\n",
       "      <td>好愛好散 (Blue Love Theme)</td>\n",
       "      <td>TWA531658601</td>\n",
       "      <td>8849</td>\n",
       "    </tr>\n",
       "    <tr>\n",
       "      <th>4</th>\n",
       "      <td>159035</td>\n",
       "      <td>-132.166977</td>\n",
       "      <td>265848.0</td>\n",
       "      <td>465</td>\n",
       "      <td>林俊傑 (JJ Lin)</td>\n",
       "      <td>JJ Lin</td>\n",
       "      <td>Lin Qiu Li</td>\n",
       "      <td>3.0</td>\n",
       "      <td>不為誰而作的歌 (Twilight)</td>\n",
       "      <td>TWA531576502</td>\n",
       "      <td>10179</td>\n",
       "    </tr>\n",
       "    <tr>\n",
       "      <th>7</th>\n",
       "      <td>268835</td>\n",
       "      <td>-132.179245</td>\n",
       "      <td>250357.0</td>\n",
       "      <td>458</td>\n",
       "      <td>五月天 (Mayday)</td>\n",
       "      <td>阿信</td>\n",
       "      <td>阿信</td>\n",
       "      <td>3.0</td>\n",
       "      <td>派對動物 (Party Animal)</td>\n",
       "      <td>TWK231680790</td>\n",
       "      <td>9382</td>\n",
       "    </tr>\n",
       "    <tr>\n",
       "      <th>3</th>\n",
       "      <td>283882</td>\n",
       "      <td>-132.186600</td>\n",
       "      <td>283747.0</td>\n",
       "      <td>458</td>\n",
       "      <td>aMEI (張惠妹)</td>\n",
       "      <td>Lei Qian</td>\n",
       "      <td>NaN</td>\n",
       "      <td>3.0</td>\n",
       "      <td>默</td>\n",
       "      <td>TWUM71600075</td>\n",
       "      <td>7586</td>\n",
       "    </tr>\n",
       "    <tr>\n",
       "      <th>1</th>\n",
       "      <td>415315</td>\n",
       "      <td>-132.229126</td>\n",
       "      <td>189361.0</td>\n",
       "      <td>1616|1609</td>\n",
       "      <td>Alan Walker</td>\n",
       "      <td>Alan Walker| Jesper Borgen| Anders Froen| Gunn...</td>\n",
       "      <td>Alan Walker| Jesper Borgen| Anders Froen| Gunn...</td>\n",
       "      <td>52.0</td>\n",
       "      <td>Sing Me to Sleep</td>\n",
       "      <td>NOG841611010</td>\n",
       "      <td>6661</td>\n",
       "    </tr>\n",
       "    <tr>\n",
       "      <th>2</th>\n",
       "      <td>353132</td>\n",
       "      <td>-132.239883</td>\n",
       "      <td>212973.0</td>\n",
       "      <td>444</td>\n",
       "      <td>TWICE</td>\n",
       "      <td>Rado</td>\n",
       "      <td>NaN</td>\n",
       "      <td>31.0</td>\n",
       "      <td>TT</td>\n",
       "      <td>US5TA1600082</td>\n",
       "      <td>5225</td>\n",
       "    </tr>\n",
       "    <tr>\n",
       "      <th>0</th>\n",
       "      <td>7509</td>\n",
       "      <td>-132.246185</td>\n",
       "      <td>262687.0</td>\n",
       "      <td>458</td>\n",
       "      <td>孫盛希 (Shi Shi)</td>\n",
       "      <td>孫盛希</td>\n",
       "      <td>Molly Lin (妮可醬)@i-One Music</td>\n",
       "      <td>3.0</td>\n",
       "      <td>微笑帶過 (Passing Smile)</td>\n",
       "      <td>TWA451601609</td>\n",
       "      <td>7255</td>\n",
       "    </tr>\n",
       "  </tbody>\n",
       "</table>\n",
       "</div>"
      ],
      "text/plain": [
       "    item_id   relevance  song_length  genre_ids  \\\n",
       "16   238767 -131.540619     185295.0        451   \n",
       "18   365248 -131.575272     219324.0        458   \n",
       "19   387355 -131.742783     161175.0  1616|1609   \n",
       "14   138868 -131.859497     212750.0  1616|1609   \n",
       "17   204493 -131.890335     215144.0        458   \n",
       "15   118074 -131.901779     287328.0        458   \n",
       "13   181909 -131.963562     227343.0        465   \n",
       "11   133878 -131.967712     244976.0       1609   \n",
       "6    395262 -132.056549     265508.0        465   \n",
       "8     40286 -132.076004     346272.0        458   \n",
       "12   211063 -132.098587     290063.0        458   \n",
       "10     2498 -132.146637     208492.0       1609   \n",
       "5     59992 -132.148636     258298.0        465   \n",
       "9      3221 -132.152527     283846.0        465   \n",
       "4    159035 -132.166977     265848.0        465   \n",
       "7    268835 -132.179245     250357.0        458   \n",
       "3    283882 -132.186600     283747.0        458   \n",
       "1    415315 -132.229126     189361.0  1616|1609   \n",
       "2    353132 -132.239883     212973.0        444   \n",
       "0      7509 -132.246185     262687.0        458   \n",
       "\n",
       "                       artist_name  \\\n",
       "16                陳奕迅 (Eason Chan)   \n",
       "18               周湯豪 (NICKTHEREAL)   \n",
       "19                     Alan Walker   \n",
       "14                     Alan Walker   \n",
       "17                  周杰倫 (Jay Chou)   \n",
       "15                        Eric 周興哲   \n",
       "13                   謝和弦 (R-chord)   \n",
       "11                The Chainsmokers   \n",
       "6                       田馥甄 (Hebe)   \n",
       "8                     五月天 (Mayday)   \n",
       "12                  周杰倫 (Jay Chou)   \n",
       "10                The Chainsmokers   \n",
       "5   兄弟本色G.U.T.S. (姚中仁、張震嶽、頑童MJ116)   \n",
       "9                 陳勢安 (Andrew Tan)   \n",
       "4                     林俊傑 (JJ Lin)   \n",
       "7                     五月天 (Mayday)   \n",
       "3                       aMEI (張惠妹)   \n",
       "1                      Alan Walker   \n",
       "2                            TWICE   \n",
       "0                    孫盛希 (Shi Shi)   \n",
       "\n",
       "                                             composer  \\\n",
       "16                                      Tang Han Xiao   \n",
       "18                                                周湯豪   \n",
       "19  Alan Walker| Jesper Borgen| Anders Froen| Gunn...   \n",
       "14  Alan Walker| Jesper Borgen| Anders Froen| Gunn...   \n",
       "17                                                周杰倫   \n",
       "15                                          Eric Chou   \n",
       "13                                            R-chord   \n",
       "11  Andrew Taggart| Shaun Frank| Frederic Kennett|...   \n",
       "6                                              JerryC   \n",
       "8                                                  怪獸   \n",
       "12                                                周杰倫   \n",
       "10         Andrew Taggart| Emily Warren| Scott Harris   \n",
       "5                姚中仁 MC HotDog 陳昱榕 Ｅ-SO 周文傑 KENZY 林睦淵   \n",
       "9                                                 覃嘉健   \n",
       "4                                              JJ Lin   \n",
       "7                                                  阿信   \n",
       "3                                            Lei Qian   \n",
       "1   Alan Walker| Jesper Borgen| Anders Froen| Gunn...   \n",
       "2                                                Rado   \n",
       "0                                                 孫盛希   \n",
       "\n",
       "                                             lyricist  language  \\\n",
       "16                                      Tang Han Xiao       3.0   \n",
       "18                                            周湯豪\\崔惟楷       3.0   \n",
       "19  Alan Walker| Jesper Borgen| Anders Froen| Gunn...      52.0   \n",
       "14  Alan Walker| Jesper Borgen| Anders Froen| Gunn...      52.0   \n",
       "17                                                方文山       3.0   \n",
       "15                               Eric Chou| Yi-Wei Wu       3.0   \n",
       "13                                            R-chord       3.0   \n",
       "11  Andrew Taggart| Shaun Frank| Frederic Kennett|...      52.0   \n",
       "6                                             徐世珍/吳輝福       3.0   \n",
       "8                                                  阿信       3.0   \n",
       "12                                                方文山       3.0   \n",
       "10         Andrew Taggart| Emily Warren| Scott Harris      52.0   \n",
       "5                姚中仁 MC HotDog 陳昱榕 Ｅ-SO 周文傑 KENZY 林睦淵       3.0   \n",
       "9                                                 馬嵩惟       3.0   \n",
       "4                                          Lin Qiu Li       3.0   \n",
       "7                                                  阿信       3.0   \n",
       "3                                                 NaN       3.0   \n",
       "1   Alan Walker| Jesper Borgen| Anders Froen| Gunn...      52.0   \n",
       "2                                                 NaN      31.0   \n",
       "0                         Molly Lin (妮可醬)@i-One Music       3.0   \n",
       "\n",
       "                            name          isrc  popularity  \n",
       "16                       讓我留在你身邊  HKJ631603001       10526  \n",
       "18                          帥到分手  TWAG11600306       12436  \n",
       "19                         Alone  NOG841617010        8901  \n",
       "14                         Faded  NOG841549010        9314  \n",
       "17                          告白氣球  TWK971601308       11852  \n",
       "15   你，好不好？ (How Have You Been?)  TWA471602002       11526  \n",
       "13  謝謝妳愛我 (Thanks For Your Love)  TWA531657203       10811  \n",
       "11                        Closer  USQX91601347        8719  \n",
       "6       小幸運 (A little happiness)  TWD951562101       11408  \n",
       "8        後來的我們 (Here| After| Us)  TWK231610206        9910  \n",
       "12                            不該  TWK971601306       10311  \n",
       "10             Don't Let Me Down  USQX91600011        6720  \n",
       "5                        FLY OUT  TWA451512031        9077  \n",
       "9         好愛好散 (Blue Love Theme)  TWA531658601        8849  \n",
       "4             不為誰而作的歌 (Twilight)  TWA531576502       10179  \n",
       "7            派對動物 (Party Animal)  TWK231680790        9382  \n",
       "3                              默  TWUM71600075        7586  \n",
       "1               Sing Me to Sleep  NOG841611010        6661  \n",
       "2                             TT  US5TA1600082        5225  \n",
       "0           微笑帶過 (Passing Smile)  TWA451601609        7255  "
      ]
     },
     "execution_count": 137,
     "metadata": {},
     "output_type": "execute_result"
    }
   ],
   "source": [
    "res.merge(items_with_pop, on='item_id').sort_values('relevance', ascending=False)"
   ]
  },
  {
   "cell_type": "code",
   "execution_count": 138,
   "id": "c1fe12be",
   "metadata": {
    "execution": {
     "iopub.execute_input": "2024-04-02T14:14:41.294439Z",
     "iopub.status.busy": "2024-04-02T14:14:41.293984Z",
     "iopub.status.idle": "2024-04-02T14:14:41.300044Z",
     "shell.execute_reply": "2024-04-02T14:14:41.298873Z",
     "shell.execute_reply.started": "2024-04-02T14:14:41.294403Z"
    },
    "id": "X-WmasBlvscc"
   },
   "outputs": [],
   "source": [
    "item_id_lfm = item_mapping[TEST_SONG]\n",
    "user_id_lfm = user_mapping[TEST_USER]"
   ]
  },
  {
   "cell_type": "code",
   "execution_count": 139,
   "id": "74acb765",
   "metadata": {
    "execution": {
     "iopub.execute_input": "2024-04-02T14:14:42.937144Z",
     "iopub.status.busy": "2024-04-02T14:14:42.936687Z",
     "iopub.status.idle": "2024-04-02T14:14:42.944762Z",
     "shell.execute_reply": "2024-04-02T14:14:42.943884Z",
     "shell.execute_reply.started": "2024-04-02T14:14:42.937107Z"
    },
    "id": "Z7tm7pnpvxKn"
   },
   "outputs": [
    {
     "data": {
      "text/plain": [
       "-134.82616"
      ]
     },
     "execution_count": 139,
     "metadata": {},
     "output_type": "execute_result"
    }
   ],
   "source": [
    "rel = lightfm.predict(user_ids=user_id_lfm,\n",
    "                      item_ids=[item_id_lfm],\n",
    "                      user_features=sparse_u_features,\n",
    "                      item_features=sparse_i_features)[0]\n",
    "rel"
   ]
  },
  {
   "cell_type": "code",
   "execution_count": 140,
   "id": "de8ed97a",
   "metadata": {
    "execution": {
     "iopub.execute_input": "2024-04-02T14:14:45.977626Z",
     "iopub.status.busy": "2024-04-02T14:14:45.977198Z",
     "iopub.status.idle": "2024-04-02T14:14:45.985712Z",
     "shell.execute_reply": "2024-04-02T14:14:45.984534Z",
     "shell.execute_reply.started": "2024-04-02T14:14:45.977597Z"
    },
    "id": "EzzJ2XzNvx9K"
   },
   "outputs": [
    {
     "data": {
      "text/plain": [
       "((35071, 64), (35071,))"
      ]
     },
     "execution_count": 140,
     "metadata": {},
     "output_type": "execute_result"
    }
   ],
   "source": [
    "u_biases, u_vectors = lightfm.get_user_representations()\n",
    "u_vectors.shape, u_biases.shape"
   ]
  },
  {
   "cell_type": "code",
   "execution_count": 141,
   "id": "27bf84d2",
   "metadata": {
    "execution": {
     "iopub.execute_input": "2024-04-02T14:14:48.086776Z",
     "iopub.status.busy": "2024-04-02T14:14:48.086322Z",
     "iopub.status.idle": "2024-04-02T14:14:48.095306Z",
     "shell.execute_reply": "2024-04-02T14:14:48.094018Z",
     "shell.execute_reply.started": "2024-04-02T14:14:48.086742Z"
    },
    "id": "1sUkw14mwJVk"
   },
   "outputs": [
    {
     "data": {
      "text/plain": [
       "((193219, 64), (193219,))"
      ]
     },
     "execution_count": 141,
     "metadata": {},
     "output_type": "execute_result"
    }
   ],
   "source": [
    "i_biases, i_vectors =lightfm.get_item_representations()\n",
    "i_vectors.shape, i_biases.shape"
   ]
  },
  {
   "cell_type": "code",
   "execution_count": 142,
   "id": "133611e6",
   "metadata": {
    "execution": {
     "iopub.execute_input": "2024-04-02T14:14:49.514654Z",
     "iopub.status.busy": "2024-04-02T14:14:49.514010Z",
     "iopub.status.idle": "2024-04-02T14:14:49.523152Z",
     "shell.execute_reply": "2024-04-02T14:14:49.521678Z",
     "shell.execute_reply.started": "2024-04-02T14:14:49.514601Z"
    },
    "id": "hBYzyotfwLk6"
   },
   "outputs": [],
   "source": [
    "user_vector = sparse_u_features[user_id_lfm]@u_vectors\n",
    "item_vector = sparse_i_features[item_id_lfm]@i_vectors\n",
    "rel_ours = (user_vector@item_vector.T + sparse_u_features[user_id_lfm]@u_biases + sparse_i_features[item_id_lfm]@i_biases).ravel()[0]"
   ]
  },
  {
   "cell_type": "code",
   "execution_count": 143,
   "id": "bfb6d915",
   "metadata": {
    "execution": {
     "iopub.execute_input": "2024-04-02T14:14:51.192108Z",
     "iopub.status.busy": "2024-04-02T14:14:51.191576Z",
     "iopub.status.idle": "2024-04-02T14:14:51.198014Z",
     "shell.execute_reply": "2024-04-02T14:14:51.196642Z",
     "shell.execute_reply.started": "2024-04-02T14:14:51.192075Z"
    },
    "id": "YVElf1RYwPdQ"
   },
   "outputs": [],
   "source": [
    "assert math.isclose(rel, rel_ours, rel_tol=1e-5)"
   ]
  },
  {
   "cell_type": "code",
   "execution_count": 144,
   "id": "0356851a",
   "metadata": {
    "execution": {
     "iopub.execute_input": "2024-04-02T14:14:53.024797Z",
     "iopub.status.busy": "2024-04-02T14:14:53.024292Z",
     "iopub.status.idle": "2024-04-02T14:14:53.053529Z",
     "shell.execute_reply": "2024-04-02T14:14:53.052331Z",
     "shell.execute_reply.started": "2024-04-02T14:14:53.024759Z"
    },
    "id": "2cbhD_DTwZ01"
   },
   "outputs": [],
   "source": [
    "from typing import Dict, Iterable\n",
    "class UserFriendlyLightFM(SVDModel):\n",
    "    user_mapping: Dict\n",
    "    item_mapping: Dict\n",
    "    inv_user_mapping: Dict\n",
    "    inv_item_mapping: Dict\n",
    "    lightfm_dataset: LFMDataset\n",
    "\n",
    "    def __init__(self,\n",
    "                 user_ids: np.ndarray,\n",
    "                 item_ids: np.ndarray,\n",
    "                 user_tags: Optional[Iterable],\n",
    "                 item_tags: Optional[Iterable],\n",
    "                 epochs: int,\n",
    "                 model: LightFM\n",
    "                ):\n",
    "        self.lightfm_dataset = LFMDataset()\n",
    "        self.lightfm_dataset.fit(users=user_ids,\n",
    "                                         items=item_ids,\n",
    "                                         user_features=user_tags,\n",
    "                                         item_features=item_tags,\n",
    "                                        )\n",
    "        self.user_mapping = self.lightfm_dataset.mapping()[0]\n",
    "        self.item_mapping = self.lightfm_dataset.mapping()[2]\n",
    "        self.inv_user_mapping = {value: key for key, value in self.user_mapping.items()}\n",
    "        self.inv_item_mapping = {value: key for key, value in self.item_mapping.items()}\n",
    "        self.epochs = epochs\n",
    "        self.model = model\n",
    "\n",
    "\n",
    "    def _transform_dataset(self,\n",
    "                           log: Optional[pd.DataFrame],\n",
    "            user_features: Optional[pd.DataFrame]=None,\n",
    "            item_features: Optional[pd.DataFrame]=None):\n",
    "\n",
    "        (interactions, weights) = self.lightfm_dataset.build_interactions([(row.user_id, row.item_id, row.target) for row in log.itertuples()]) if log is not None else (None, None)\n",
    "        user_features_sparse = self.lightfm_dataset.build_user_features([[row.user_id, row.features] for row in user_features.reset_index().itertuples()]) if user_features is not None else None\n",
    "        item_features_sparse = self.lightfm_dataset.build_item_features([[row.item_id, row.features] for row in item_features.reset_index().itertuples()]) if item_features is not None else None\n",
    "        return interactions, weights, user_features_sparse, item_features_sparse\n",
    "\n",
    "    def fit(self,\n",
    "            log: pd.DataFrame,\n",
    "            user_features: Optional[pd.DataFrame]=None,\n",
    "            item_features: Optional[pd.DataFrame]=None) -> 'UserFriendlyLightFM':\n",
    "\n",
    "        interactions, weights, user_features_sparse, item_features_sparse = self._transform_dataset(log, user_features, item_features)\n",
    "        self.model.fit(interactions, user_features=user_features_sparse, item_features=item_features_sparse, epochs=self.epochs, num_threads=8)\n",
    "        return self\n",
    "\n",
    "    def _predict(self,\n",
    "                log: pd.DataFrame,\n",
    "                users: pd.Series,\n",
    "                k: int,\n",
    "                user_features: Optional[pd.DataFrame]=None,\n",
    "                item_features: Optional[pd.DataFrame]=None,\n",
    "                filter_seen:bool = True) -> pd.DataFrame:\n",
    "\n",
    "        pred = pd.DataFrame(users.map(self.user_mapping).unique(), columns=['user_id'])\n",
    "        pred.dropna(inplace=True)\n",
    "        interactions, weights, user_features_sparse, item_features_sparse = self._transform_dataset(None, user_features, item_features)\n",
    "\n",
    "\n",
    "        def _get_lfm_pred_all_items(user_id):\n",
    "            pred_for_all = self.model.predict(user_ids=user_id, item_ids=sorted(self.item_mapping.values()), user_features=user_features_sparse, item_features=item_features_sparse)\n",
    "            ids = np.argpartition(pred_for_all, -k)[-k:]\n",
    "            rel = pred_for_all[ids]\n",
    "            return list(zip(ids, rel))\n",
    "\n",
    "        pred['recs'] = pred['user_id'].apply(_get_lfm_pred_all_items)\n",
    "        pred = pred.explode('recs')\n",
    "        self._split_pair(pred)\n",
    "        pred['item_id'] = pred['item_id'].map(self.inv_item_mapping)\n",
    "        pred['user_id'] = pred['user_id'].map(self.inv_user_mapping)\n",
    "        return pred"
   ]
  },
  {
   "cell_type": "markdown",
   "id": "b56d637c",
   "metadata": {
    "id": "TN_P011oyBlp"
   },
   "source": [
    "# LightFM без признаков"
   ]
  },
  {
   "cell_type": "code",
   "execution_count": 145,
   "id": "f3bc69f0",
   "metadata": {
    "execution": {
     "iopub.execute_input": "2024-04-02T14:14:56.860692Z",
     "iopub.status.busy": "2024-04-02T14:14:56.860288Z",
     "iopub.status.idle": "2024-04-02T14:14:57.317286Z",
     "shell.execute_reply": "2024-04-02T14:14:57.315820Z",
     "shell.execute_reply.started": "2024-04-02T14:14:56.860663Z"
    },
    "id": "Y1vltBejwe2s"
   },
   "outputs": [],
   "source": [
    "lfm = UserFriendlyLightFM(user_ids=filtered_df['user_id'].unique(),\n",
    "                             item_ids=filtered_df['item_id'].unique(),\n",
    "                             user_tags=unique_user_tags,\n",
    "                             item_tags=unique_item_tags,\n",
    "                             epochs=40,\n",
    "                             model=LightFM(no_components=64, loss='warp'))"
   ]
  },
  {
   "cell_type": "code",
   "execution_count": 146,
   "id": "eb29a9fe",
   "metadata": {
    "execution": {
     "iopub.execute_input": "2024-04-02T14:14:59.999619Z",
     "iopub.status.busy": "2024-04-02T14:14:59.998888Z",
     "iopub.status.idle": "2024-04-02T14:23:14.760919Z",
     "shell.execute_reply": "2024-04-02T14:23:14.759786Z",
     "shell.execute_reply.started": "2024-04-02T14:14:59.999583Z"
    },
    "id": "nT8P_3CAwhRW"
   },
   "outputs": [
    {
     "name": "stdout",
     "output_type": "stream",
     "text": [
      "CPU times: user 28min 46s, sys: 2.44 s, total: 28min 48s\n",
      "Wall time: 8min 14s\n"
     ]
    },
    {
     "data": {
      "text/plain": [
       "<__main__.UserFriendlyLightFM at 0x7d297d7cb730>"
      ]
     },
     "execution_count": 146,
     "metadata": {},
     "output_type": "execute_result"
    }
   ],
   "source": [
    "%%time\n",
    "lfm.fit(log=train_by_date, user_features=None, item_features=None)"
   ]
  },
  {
   "cell_type": "code",
   "execution_count": 147,
   "id": "e3f430f5",
   "metadata": {
    "execution": {
     "iopub.execute_input": "2024-04-02T14:23:14.763705Z",
     "iopub.status.busy": "2024-04-02T14:23:14.763367Z",
     "iopub.status.idle": "2024-04-02T14:56:47.699552Z",
     "shell.execute_reply": "2024-04-02T14:56:47.696884Z",
     "shell.execute_reply.started": "2024-04-02T14:23:14.763677Z"
    },
    "id": "xPykE61owjpj"
   },
   "outputs": [
    {
     "name": "stderr",
     "output_type": "stream",
     "text": [
      "/tmp/ipykernel_191/2434742960.py:79: FutureWarning: Series.__getitem__ treating keys as positions is deprecated. In a future version, integer keys will always be treated as labels (consistent with DataFrame behavior). To access a value by position, use `ser.iloc[pos]`\n",
      "  max_items_in_train = log.groupby('user_id')[['item_id']].count().max()[0] if filter_seen else 0\n"
     ]
    },
    {
     "name": "stdout",
     "output_type": "stream",
     "text": [
      "CPU times: user 32min 47s, sys: 46.8 s, total: 33min 34s\n",
      "Wall time: 33min 32s\n"
     ]
    }
   ],
   "source": [
    "%%time\n",
    "lfm_pred = lfm.predict(log=train_by_date, users=test_by_date_users, k=K, user_features=None, item_features=None)"
   ]
  },
  {
   "cell_type": "code",
   "execution_count": 148,
   "id": "8aadb534",
   "metadata": {
    "execution": {
     "iopub.execute_input": "2024-04-02T14:56:47.703510Z",
     "iopub.status.busy": "2024-04-02T14:56:47.703039Z",
     "iopub.status.idle": "2024-04-02T14:57:05.034149Z",
     "shell.execute_reply": "2024-04-02T14:57:05.032790Z",
     "shell.execute_reply.started": "2024-04-02T14:56:47.703474Z"
    },
    "id": "33kD51enxERT"
   },
   "outputs": [
    {
     "name": "stdout",
     "output_type": "stream",
     "text": [
      "CPU times: user 14.1 s, sys: 471 ms, total: 14.5 s\n",
      "Wall time: 17.3 s\n"
     ]
    },
    {
     "data": {
      "text/html": [
       "<div>\n",
       "<style scoped>\n",
       "    .dataframe tbody tr th:only-of-type {\n",
       "        vertical-align: middle;\n",
       "    }\n",
       "\n",
       "    .dataframe tbody tr th {\n",
       "        vertical-align: top;\n",
       "    }\n",
       "\n",
       "    .dataframe thead th {\n",
       "        text-align: right;\n",
       "    }\n",
       "</style>\n",
       "<table border=\"1\" class=\"dataframe\">\n",
       "  <thead>\n",
       "    <tr style=\"text-align: right;\">\n",
       "      <th></th>\n",
       "      <th>hit_rate@1</th>\n",
       "      <th>hit_rate@K</th>\n",
       "      <th>map@K</th>\n",
       "      <th>ndcg@K</th>\n",
       "      <th>coverage@K</th>\n",
       "      <th>surprisal@K</th>\n",
       "    </tr>\n",
       "  </thead>\n",
       "  <tbody>\n",
       "    <tr>\n",
       "      <th>LightFM_rec_64_40_ep</th>\n",
       "      <td>0.028977</td>\n",
       "      <td>0.224249</td>\n",
       "      <td>0.013017</td>\n",
       "      <td>0.036863</td>\n",
       "      <td>0.080321</td>\n",
       "      <td>0.236793</td>\n",
       "    </tr>\n",
       "    <tr>\n",
       "      <th>popular</th>\n",
       "      <td>0.031257</td>\n",
       "      <td>0.192047</td>\n",
       "      <td>0.010794</td>\n",
       "      <td>0.031517</td>\n",
       "      <td>0.001449</td>\n",
       "      <td>0.122557</td>\n",
       "    </tr>\n",
       "  </tbody>\n",
       "</table>\n",
       "</div>"
      ],
      "text/plain": [
       "                     hit_rate@1 hit_rate@K     map@K    ndcg@K coverage@K  \\\n",
       "LightFM_rec_64_40_ep   0.028977   0.224249  0.013017  0.036863   0.080321   \n",
       "popular                0.031257   0.192047  0.010794  0.031517   0.001449   \n",
       "\n",
       "                     surprisal@K  \n",
       "LightFM_rec_64_40_ep    0.236793  \n",
       "popular                 0.122557  "
      ]
     },
     "execution_count": 148,
     "metadata": {},
     "output_type": "execute_result"
    }
   ],
   "source": [
    "%%time\n",
    "metrics = measure(lfm_pred, test_by_date, 'LightFM_rec_64_40_ep', metrics, cov_items=filtered_df['item_id'], surp=surp).sort_values('ndcg@K', ascending=False)\n",
    "metrics"
   ]
  },
  {
   "cell_type": "markdown",
   "id": "711cdbb6",
   "metadata": {
    "id": "s3Lw5J4tx5-6"
   },
   "source": [
    "# LightFM  c признаками"
   ]
  },
  {
   "cell_type": "code",
   "execution_count": 149,
   "id": "4a38d9d5",
   "metadata": {
    "execution": {
     "iopub.execute_input": "2024-04-02T14:57:05.038329Z",
     "iopub.status.busy": "2024-04-02T14:57:05.037551Z",
     "iopub.status.idle": "2024-04-02T14:57:05.672902Z",
     "shell.execute_reply": "2024-04-02T14:57:05.671771Z",
     "shell.execute_reply.started": "2024-04-02T14:57:05.038289Z"
    },
    "id": "gDLKPy2axHm8"
   },
   "outputs": [],
   "source": [
    "lfm_uf = UserFriendlyLightFM(user_ids=filtered_df['user_id'].unique(),\n",
    "                             item_ids=filtered_df['item_id'].unique(),\n",
    "                             user_tags=unique_user_tags,\n",
    "                             item_tags=unique_item_tags,\n",
    "                             epochs=40,\n",
    "                             model=LightFM(no_components=256, loss='warp')\n",
    "                            )"
   ]
  },
  {
   "cell_type": "code",
   "execution_count": 150,
   "id": "8df87f5e",
   "metadata": {
    "execution": {
     "iopub.execute_input": "2024-04-02T14:57:05.675038Z",
     "iopub.status.busy": "2024-04-02T14:57:05.674327Z",
     "iopub.status.idle": "2024-04-02T15:33:44.253662Z",
     "shell.execute_reply": "2024-04-02T15:33:44.252290Z",
     "shell.execute_reply.started": "2024-04-02T14:57:05.675006Z"
    },
    "id": "2urOonHPxbUr"
   },
   "outputs": [
    {
     "name": "stdout",
     "output_type": "stream",
     "text": [
      "CPU times: user 2h 18min 49s, sys: 6.75 s, total: 2h 18min 56s\n",
      "Wall time: 36min 38s\n"
     ]
    },
    {
     "data": {
      "text/plain": [
       "<__main__.UserFriendlyLightFM at 0x7d2981437a90>"
      ]
     },
     "execution_count": 150,
     "metadata": {},
     "output_type": "execute_result"
    }
   ],
   "source": [
    "%%time\n",
    "lfm_uf.fit(log=train_by_date, item_features=i_features_list, user_features=u_features_list)"
   ]
  },
  {
   "cell_type": "code",
   "execution_count": null,
   "id": "4de7bdbb",
   "metadata": {
    "execution": {
     "iopub.execute_input": "2024-04-02T15:33:44.258334Z",
     "iopub.status.busy": "2024-04-02T15:33:44.257826Z"
    },
    "id": "2G4DKRlCxd2T"
   },
   "outputs": [
    {
     "name": "stderr",
     "output_type": "stream",
     "text": [
      "/tmp/ipykernel_191/2434742960.py:79: FutureWarning: Series.__getitem__ treating keys as positions is deprecated. In a future version, integer keys will always be treated as labels (consistent with DataFrame behavior). To access a value by position, use `ser.iloc[pos]`\n",
      "  max_items_in_train = log.groupby('user_id')[['item_id']].count().max()[0] if filter_seen else 0\n"
     ]
    }
   ],
   "source": [
    "%%time\n",
    "pred_feat = lfm_uf.predict(log=train_by_date, users=test_by_date_users, k=K, user_features=u_features_list, item_features=i_features_list)"
   ]
  },
  {
   "cell_type": "code",
   "execution_count": null,
   "id": "5f5ab191",
   "metadata": {
    "id": "6mEggPeMxhFK"
   },
   "outputs": [],
   "source": [
    "%%time\n",
    "metrics = measure(pred_feat, test_by_date, 'LightFM_rec_features_256_40', metrics, cov_items=filtered_df['item_id'], surp=surp).sort_values('ndcg@K', ascending=False)\n",
    "metrics"
   ]
  },
  {
   "cell_type": "code",
   "execution_count": null,
   "id": "9d04515a",
   "metadata": {},
   "outputs": [],
   "source": []
  },
  {
   "cell_type": "markdown",
   "id": "b952935e",
   "metadata": {},
   "source": [
    "**Вывод:** наиболее качественные рекомендации и по метрике и по смылу выдает модель LigthFM с признаками, что можно заметить как по примерам рекомендации для отдельного пользователя, так и в датафрэйме metrcis. Что касается возможности улучшить полученный результат, то стоит присмотреться к двухуровневой модели, где на фичах lightfm будет обучаться CatboostClassifier с подбором параметров с помощью optuna."
   ]
  }
 ],
 "metadata": {
  "accelerator": "GPU",
  "colab": {
   "gpuType": "T4",
   "provenance": []
  },
  "kaggle": {
   "accelerator": "none",
   "dataSources": [
    {
     "datasetId": 4710840,
     "sourceId": 7999936,
     "sourceType": "datasetVersion"
    }
   ],
   "dockerImageVersionId": 30673,
   "isGpuEnabled": false,
   "isInternetEnabled": true,
   "language": "python",
   "sourceType": "notebook"
  },
  "kernelspec": {
   "display_name": "Python 3 (ipykernel)",
   "language": "python",
   "name": "python3"
  },
  "language_info": {
   "codemirror_mode": {
    "name": "ipython",
    "version": 3
   },
   "file_extension": ".py",
   "mimetype": "text/x-python",
   "name": "python",
   "nbconvert_exporter": "python",
   "pygments_lexer": "ipython3",
   "version": "3.11.5"
  }
 },
 "nbformat": 4,
 "nbformat_minor": 5
}
